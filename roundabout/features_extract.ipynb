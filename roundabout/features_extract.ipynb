{
 "cells": [
  {
   "cell_type": "code",
   "execution_count": 1,
   "metadata": {},
   "outputs": [],
   "source": [
    "import numpy as np\n",
    "import pandas as pd\n"
   ]
  },
  {
   "cell_type": "code",
   "execution_count": 2,
   "metadata": {},
   "outputs": [],
   "source": [
    "# Load the dataset\n",
    "file_path = 'datasets_synthesiesd/datasets_roundabout_collision_free_all.csv'\n",
    "data = pd.read_csv(file_path).values"
   ]
  },
  {
   "cell_type": "code",
   "execution_count": 4,
   "metadata": {},
   "outputs": [
    {
     "name": "stdout",
     "output_type": "stream",
     "text": [
      "0.0\n"
     ]
    }
   ],
   "source": [
    "print(data[1,29])"
   ]
  },
  {
   "cell_type": "code",
   "execution_count": 5,
   "metadata": {},
   "outputs": [
    {
     "name": "stdout",
     "output_type": "stream",
     "text": [
      "[ 1.00000000e+00  2.23803735e+00  3.90200310e+01  2.88493514e-01\n",
      " -4.67465925e+00  1.00000000e+00 -5.56535101e+00  2.32717800e+01\n",
      "  1.68375912e+01  5.50484800e+00  1.00000000e+00  1.35599842e+01\n",
      "  1.47594976e+01  1.59204931e+01 -1.19871836e+01  1.00000000e+00\n",
      " -1.83239498e+01  7.56619835e+00  4.55540609e+00  1.50235777e+01\n",
      "  1.00000000e+00  1.06836952e+02 -2.00000000e+00 -1.67217712e+01\n",
      "  2.04782645e-15  0.00000000e+00  1.00000000e+00  0.00000000e+00\n",
      "  0.00000000e+00  0.00000000e+00  1.00000000e+00]\n"
     ]
    }
   ],
   "source": [
    "##visulize data\n",
    "features = data[1,:]\n",
    "print(features)"
   ]
  },
  {
   "cell_type": "markdown",
   "metadata": {},
   "source": [
    "ego features extract\n"
   ]
  },
  {
   "cell_type": "code",
   "execution_count": 15,
   "metadata": {},
   "outputs": [
    {
     "name": "stdout",
     "output_type": "stream",
     "text": [
      "0.0\n"
     ]
    }
   ],
   "source": [
    "row = data[1,:]\n",
    "# Ego vehicle features\n",
    "ego_features = row[:5]\n",
    "ego_lane = row[29]  # Lane ID of ego vehicle\n",
    "ego_speed = ego_features[3]  # Speed of ego vehicle\n",
    "print(ego_lane)"
   ]
  },
  {
   "cell_type": "markdown",
   "metadata": {},
   "source": [
    "extract other vehicles"
   ]
  },
  {
   "cell_type": "code",
   "execution_count": 13,
   "metadata": {},
   "outputs": [
    {
     "name": "stdout",
     "output_type": "stream",
     "text": [
      "[0. 1. 0. 0.]\n"
     ]
    }
   ],
   "source": [
    "row = data[1,:]\n",
    "other_vehicles = row[5:25].reshape(4, 5)  # 9 vehicles, 5 features each\n",
    "\n",
    "# Separate features of other vehicles\n",
    "other_lanes = row[25:29]  # Lane IDs of other vehicles\n",
    "distances = np.abs(other_vehicles[:, 1] - ego_features[1])  # Distances from ego vehicle\n",
    "relative_velocities = other_vehicles[:, 3] - ego_speed  # Relative velocities\n",
    "print(other_lanes)"
   ]
  },
  {
   "cell_type": "markdown",
   "metadata": {},
   "source": [
    "calculations"
   ]
  },
  {
   "cell_type": "code",
   "execution_count": 14,
   "metadata": {},
   "outputs": [
    {
     "name": "stdout",
     "output_type": "stream",
     "text": [
      "3\n"
     ]
    }
   ],
   "source": [
    "# Number of vehicles in ego lane and adjacent lanes\n",
    "vehicles_in_ego_lane = np.sum(other_lanes == ego_lane)\n",
    "vehicles_in_left_lane = np.sum(other_lanes == ego_lane - 1)\n",
    "vehicles_in_right_lane = np.sum(other_lanes == ego_lane + 1)\n",
    "\n",
    "print(vehicles_in_ego_lane)"
   ]
  },
  {
   "cell_type": "code",
   "execution_count": 9,
   "metadata": {},
   "outputs": [
    {
     "name": "stdout",
     "output_type": "stream",
     "text": [
      "2\n"
     ]
    }
   ],
   "source": [
    "# Closest vehicles\n",
    "closest_ego_index = np.where(other_lanes == ego_lane, distances, np.inf).argmin() if vehicles_in_ego_lane !=0 else np.NAN\n",
    "closest_left_index = np.where(other_lanes == ego_lane - 1, distances, np.inf).argmin() if vehicles_in_left_lane !=0 else np.NAN\n",
    "closest_right_index = np.where(other_lanes == ego_lane + 1, distances, np.inf).argmin() if vehicles_in_right_lane !=0 else np.NAN\n",
    "print(closest_ego_index)\n"
   ]
  },
  {
   "cell_type": "code",
   "execution_count": 10,
   "metadata": {},
   "outputs": [
    {
     "name": "stdout",
     "output_type": "stream",
     "text": [
      "31.405969999999996\n"
     ]
    }
   ],
   "source": [
    "if np.isnan(closest_ego_index):\n",
    "    closest_in_ego_lane_dist = np.inf  # Assign default value for no vehicle\n",
    "else:\n",
    "    closest_in_ego_lane_dist = distances[int(closest_ego_index)]  # Use int() to ensure valid index\n",
    "print(closest_in_ego_lane_dist)"
   ]
  },
  {
   "cell_type": "code",
   "execution_count": 11,
   "metadata": {},
   "outputs": [
    {
     "name": "stdout",
     "output_type": "stream",
     "text": [
      "-2.216422999999999\n"
     ]
    }
   ],
   "source": [
    "if np.isnan(closest_ego_index):\n",
    "    relative_velocity_ego_lane = 10000  # Assign large value for no vehicle\n",
    "else:\n",
    "    relative_velocity_ego_lane = relative_velocities[int(closest_ego_index)]  \n",
    "print(relative_velocity_ego_lane)"
   ]
  },
  {
   "cell_type": "code",
   "execution_count": 12,
   "metadata": {},
   "outputs": [
    {
     "ename": "NameError",
     "evalue": "name 'closest_in_ego_lane' is not defined",
     "output_type": "error",
     "traceback": [
      "\u001b[0;31m---------------------------------------------------------------------------\u001b[0m",
      "\u001b[0;31mNameError\u001b[0m                                 Traceback (most recent call last)",
      "Cell \u001b[0;32mIn[12], line 1\u001b[0m\n\u001b[0;32m----> 1\u001b[0m relative_velocity_closest_ego \u001b[38;5;241m=\u001b[39m relative_velocities[closest_ego_index] \u001b[38;5;28;01mif\u001b[39;00m \u001b[43mclosest_in_ego_lane\u001b[49m \u001b[38;5;241m<\u001b[39m \u001b[38;5;28mlen\u001b[39m(relative_velocities) \u001b[38;5;28;01melse\u001b[39;00m \u001b[38;5;241m0\u001b[39m\n\u001b[1;32m      2\u001b[0m relative_velocity_closest_left \u001b[38;5;241m=\u001b[39m relative_velocities[closest_left_index] \u001b[38;5;28;01mif\u001b[39;00m closest_left_lane \u001b[38;5;241m<\u001b[39m \u001b[38;5;28mlen\u001b[39m(relative_velocities) \u001b[38;5;28;01melse\u001b[39;00m \u001b[38;5;241m0\u001b[39m\n\u001b[1;32m      3\u001b[0m relative_velocity_closest_right \u001b[38;5;241m=\u001b[39m relative_velocities[closest_right_index] \u001b[38;5;28;01mif\u001b[39;00m closest_right_lane \u001b[38;5;241m<\u001b[39m \u001b[38;5;28mlen\u001b[39m(relative_velocities) \u001b[38;5;28;01melse\u001b[39;00m \u001b[38;5;241m0\u001b[39m\n",
      "\u001b[0;31mNameError\u001b[0m: name 'closest_in_ego_lane' is not defined"
     ]
    }
   ],
   "source": [
    "relative_velocity_closest_ego = relative_velocities[closest_ego_index] if closest_in_ego_lane < len(relative_velocities) else 0\n",
    "relative_velocity_closest_left = relative_velocities[closest_left_index] if closest_left_lane < len(relative_velocities) else 0\n",
    "relative_velocity_closest_right = relative_velocities[closest_right_index] if closest_right_lane < len(relative_velocities) else 0\n",
    "print(relative_velocity_closest_ego)"
   ]
  },
  {
   "cell_type": "markdown",
   "metadata": {},
   "source": [
    "no vehivle handeling\n"
   ]
  },
  {
   "cell_type": "code",
   "execution_count": null,
   "metadata": {},
   "outputs": [
    {
     "name": "stdout",
     "output_type": "stream",
     "text": [
      "There are valid vehicles in the lane ego_lane + 3.\n"
     ]
    }
   ],
   "source": [
    "if np.any(np.where(other_lanes == ego_lane, distances, np.inf) != np.inf):\n",
    "    print(\"There are valid vehicles in the lane ego_lane + 3.\")\n",
    "else:\n",
    "    print(\"No valid vehicles in the lane ego_lane + 3.\")"
   ]
  }
 ],
 "metadata": {
  "kernelspec": {
   "display_name": "Python 3",
   "language": "python",
   "name": "python3"
  },
  "language_info": {
   "codemirror_mode": {
    "name": "ipython",
    "version": 3
   },
   "file_extension": ".py",
   "mimetype": "text/x-python",
   "name": "python",
   "nbconvert_exporter": "python",
   "pygments_lexer": "ipython3",
   "version": "3.8.10"
  }
 },
 "nbformat": 4,
 "nbformat_minor": 2
}
