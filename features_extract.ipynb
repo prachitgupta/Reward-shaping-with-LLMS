{
 "cells": [
  {
   "cell_type": "code",
   "execution_count": 2,
   "metadata": {},
   "outputs": [],
   "source": [
    "import numpy as np\n",
    "import pandas as pd\n"
   ]
  },
  {
   "cell_type": "code",
   "execution_count": 3,
   "metadata": {},
   "outputs": [],
   "source": [
    "# Load the dataset\n",
    "file_path = 'datasets/claude_5k.csv'\n",
    "data = pd.read_csv(file_path).values"
   ]
  },
  {
   "cell_type": "code",
   "execution_count": 4,
   "metadata": {},
   "outputs": [
    {
     "name": "stdout",
     "output_type": "stream",
     "text": [
      "4.0\n"
     ]
    }
   ],
   "source": [
    "print(data[1,50])"
   ]
  },
  {
   "cell_type": "code",
   "execution_count": 5,
   "metadata": {},
   "outputs": [
    {
     "name": "stdout",
     "output_type": "stream",
     "text": [
      "[  1.       183.19193    4.        25.         0.         1.\n",
      " 193.33936   12.        22.37266    0.         1.       205.07791\n",
      "  12.        23.945366   0.         1.       214.5979     4.\n",
      "  22.783577   0.         1.       225.87688    4.        21.84085\n",
      "   0.         1.       235.90842    0.        21.850979   0.\n",
      "   1.       246.12164   12.        23.093002   0.         1.\n",
      " 257.69952   12.        22.847837   0.         1.       268.07233\n",
      "   8.        21.526155   0.         1.       278.74005   12.\n",
      "  21.072702   0.         4.      ]\n"
     ]
    }
   ],
   "source": [
    "##visulize data\n",
    "features = data[1,:]\n",
    "print(features)"
   ]
  },
  {
   "cell_type": "markdown",
   "metadata": {},
   "source": [
    "ego features extract\n"
   ]
  },
  {
   "cell_type": "code",
   "execution_count": 6,
   "metadata": {},
   "outputs": [
    {
     "name": "stdout",
     "output_type": "stream",
     "text": [
      "[  1.       183.19193    4.        25.         0.         1.\n",
      " 193.33936   12.        22.37266    0.         1.       205.07791\n",
      "  12.        23.945366   0.         1.       214.5979     4.\n",
      "  22.783577   0.         1.       225.87688    4.        21.84085\n",
      "   0.         1.       235.90842    0.        21.850979   0.\n",
      "   1.       246.12164   12.        23.093002   0.         1.\n",
      " 257.69952   12.        22.847837   0.         1.       268.07233\n",
      "   8.        21.526155   0.         1.       278.74005   12.\n",
      "  21.072702   0.         4.      ]\n"
     ]
    }
   ],
   "source": [
    "row = data[1,:]\n",
    "# Ego vehicle features\n",
    "ego_features = row[:5]\n",
    "ego_lane = ego_features[2]//4 +1  # Lane ID of ego vehicle\n",
    "ego_speed = ego_features[3]  # Speed of ego vehicle\n",
    "print(row)"
   ]
  },
  {
   "cell_type": "markdown",
   "metadata": {},
   "source": [
    "extract other vehicles"
   ]
  },
  {
   "cell_type": "code",
   "execution_count": 13,
   "metadata": {},
   "outputs": [
    {
     "name": "stdout",
     "output_type": "stream",
     "text": [
      "[[  1.       193.33936   12.        22.37266    0.      ]\n",
      " [  1.       205.07791   12.        23.945366   0.      ]\n",
      " [  1.       214.5979     4.        22.783577   0.      ]\n",
      " [  1.       225.87688    4.        21.84085    0.      ]\n",
      " [  1.       235.90842    0.        21.850979   0.      ]\n",
      " [  1.       246.12164   12.        23.093002   0.      ]\n",
      " [  1.       257.69952   12.        22.847837   0.      ]\n",
      " [  1.       268.07233    8.        21.526155   0.      ]\n",
      " [  1.       278.74005   12.        21.072702   0.      ]]\n"
     ]
    }
   ],
   "source": [
    "row = data[1,:]\n",
    "other_vehicles = row[5:50].reshape(9, 5)  # 9 vehicles, 5 features each\n",
    "\n",
    "# Separate features of other vehicles\n",
    "other_lanes = other_vehicles[:, 2] // 4 + 1  # Lane IDs of other vehicles\n",
    "distances = np.abs(other_vehicles[:, 1] - ego_features[1])  # Distances from ego vehicle\n",
    "relative_velocities = other_vehicles[:, 3] - ego_speed  # Relative velocities\n",
    "print(other_vehicles)"
   ]
  },
  {
   "cell_type": "markdown",
   "metadata": {},
   "source": [
    "calculations"
   ]
  },
  {
   "cell_type": "code",
   "execution_count": 8,
   "metadata": {},
   "outputs": [
    {
     "name": "stdout",
     "output_type": "stream",
     "text": [
      "2\n"
     ]
    }
   ],
   "source": [
    "# Number of vehicles in ego lane and adjacent lanes\n",
    "vehicles_in_ego_lane = np.sum(other_lanes == ego_lane)\n",
    "vehicles_in_left_lane = np.sum(other_lanes == ego_lane - 1)\n",
    "vehicles_in_right_lane = np.sum(other_lanes == ego_lane + 1)\n",
    "\n",
    "print(vehicles_in_ego_lane)"
   ]
  },
  {
   "cell_type": "code",
   "execution_count": 9,
   "metadata": {},
   "outputs": [
    {
     "name": "stdout",
     "output_type": "stream",
     "text": [
      "2\n"
     ]
    }
   ],
   "source": [
    "# Closest vehicles\n",
    "closest_ego_index = np.where(other_lanes == ego_lane, distances, np.inf).argmin() if vehicles_in_ego_lane !=0 else np.NAN\n",
    "closest_left_index = np.where(other_lanes == ego_lane - 1, distances, np.inf).argmin() if vehicles_in_left_lane !=0 else np.NAN\n",
    "closest_right_index = np.where(other_lanes == ego_lane + 1, distances, np.inf).argmin() if vehicles_in_right_lane !=0 else np.NAN\n",
    "print(closest_ego_index)\n"
   ]
  },
  {
   "cell_type": "code",
   "execution_count": 10,
   "metadata": {},
   "outputs": [
    {
     "name": "stdout",
     "output_type": "stream",
     "text": [
      "31.405969999999996\n"
     ]
    }
   ],
   "source": [
    "if np.isnan(closest_ego_index):\n",
    "    closest_in_ego_lane_dist = np.inf  # Assign default value for no vehicle\n",
    "else:\n",
    "    closest_in_ego_lane_dist = distances[int(closest_ego_index)]  # Use int() to ensure valid index\n",
    "print(closest_in_ego_lane_dist)"
   ]
  },
  {
   "cell_type": "code",
   "execution_count": 11,
   "metadata": {},
   "outputs": [
    {
     "name": "stdout",
     "output_type": "stream",
     "text": [
      "-2.216422999999999\n"
     ]
    }
   ],
   "source": [
    "if np.isnan(closest_ego_index):\n",
    "    relative_velocity_ego_lane = 10000  # Assign large value for no vehicle\n",
    "else:\n",
    "    relative_velocity_ego_lane = relative_velocities[int(closest_ego_index)]  \n",
    "print(relative_velocity_ego_lane)"
   ]
  },
  {
   "cell_type": "code",
   "execution_count": 12,
   "metadata": {},
   "outputs": [
    {
     "ename": "NameError",
     "evalue": "name 'closest_in_ego_lane' is not defined",
     "output_type": "error",
     "traceback": [
      "\u001b[0;31m---------------------------------------------------------------------------\u001b[0m",
      "\u001b[0;31mNameError\u001b[0m                                 Traceback (most recent call last)",
      "Cell \u001b[0;32mIn[12], line 1\u001b[0m\n\u001b[0;32m----> 1\u001b[0m relative_velocity_closest_ego \u001b[38;5;241m=\u001b[39m relative_velocities[closest_ego_index] \u001b[38;5;28;01mif\u001b[39;00m \u001b[43mclosest_in_ego_lane\u001b[49m \u001b[38;5;241m<\u001b[39m \u001b[38;5;28mlen\u001b[39m(relative_velocities) \u001b[38;5;28;01melse\u001b[39;00m \u001b[38;5;241m0\u001b[39m\n\u001b[1;32m      2\u001b[0m relative_velocity_closest_left \u001b[38;5;241m=\u001b[39m relative_velocities[closest_left_index] \u001b[38;5;28;01mif\u001b[39;00m closest_left_lane \u001b[38;5;241m<\u001b[39m \u001b[38;5;28mlen\u001b[39m(relative_velocities) \u001b[38;5;28;01melse\u001b[39;00m \u001b[38;5;241m0\u001b[39m\n\u001b[1;32m      3\u001b[0m relative_velocity_closest_right \u001b[38;5;241m=\u001b[39m relative_velocities[closest_right_index] \u001b[38;5;28;01mif\u001b[39;00m closest_right_lane \u001b[38;5;241m<\u001b[39m \u001b[38;5;28mlen\u001b[39m(relative_velocities) \u001b[38;5;28;01melse\u001b[39;00m \u001b[38;5;241m0\u001b[39m\n",
      "\u001b[0;31mNameError\u001b[0m: name 'closest_in_ego_lane' is not defined"
     ]
    }
   ],
   "source": [
    "relative_velocity_closest_ego = relative_velocities[closest_ego_index] if closest_in_ego_lane < len(relative_velocities) else 0\n",
    "relative_velocity_closest_left = relative_velocities[closest_left_index] if closest_left_lane < len(relative_velocities) else 0\n",
    "relative_velocity_closest_right = relative_velocities[closest_right_index] if closest_right_lane < len(relative_velocities) else 0\n",
    "print(relative_velocity_closest_ego)"
   ]
  },
  {
   "cell_type": "markdown",
   "metadata": {},
   "source": [
    "no vehivle handeling\n"
   ]
  },
  {
   "cell_type": "code",
   "execution_count": null,
   "metadata": {},
   "outputs": [
    {
     "name": "stdout",
     "output_type": "stream",
     "text": [
      "There are valid vehicles in the lane ego_lane + 3.\n"
     ]
    }
   ],
   "source": [
    "if np.any(np.where(other_lanes == ego_lane, distances, np.inf) != np.inf):\n",
    "    print(\"There are valid vehicles in the lane ego_lane + 3.\")\n",
    "else:\n",
    "    print(\"No valid vehicles in the lane ego_lane + 3.\")"
   ]
  }
 ],
 "metadata": {
  "kernelspec": {
   "display_name": "Python 3",
   "language": "python",
   "name": "python3"
  },
  "language_info": {
   "codemirror_mode": {
    "name": "ipython",
    "version": 3
   },
   "file_extension": ".py",
   "mimetype": "text/x-python",
   "name": "python",
   "nbconvert_exporter": "python",
   "pygments_lexer": "ipython3",
   "version": "3.8.10"
  }
 },
 "nbformat": 4,
 "nbformat_minor": 2
}
