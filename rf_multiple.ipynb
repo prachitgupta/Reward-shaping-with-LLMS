{
 "cells": [
  {
   "cell_type": "code",
   "execution_count": 10,
   "metadata": {},
   "outputs": [],
   "source": [
    "import argparse\n",
    "from sklearn.ensemble import RandomForestClassifier\n",
    "from sklearn.model_selection import train_test_split\n",
    "from sklearn.utils.class_weight import compute_class_weight\n",
    "from imblearn.over_sampling import SMOTE\n",
    "from sklearn.metrics import accuracy_score, classification_report, confusion_matrix\n",
    "import pandas as pd\n",
    "import joblib\n",
    "import matplotlib.pyplot as plt\n",
    "import seaborn as sns"
   ]
  },
  {
   "cell_type": "code",
   "execution_count": 25,
   "metadata": {},
   "outputs": [
    {
     "name": "stdout",
     "output_type": "stream",
     "text": [
      "1.0    2475\n",
      "4.0    2081\n",
      "2.0     226\n",
      "0.0     189\n",
      "3.0      29\n",
      "Name: action, dtype: int64\n"
     ]
    }
   ],
   "source": [
    "# Load the dataset\n",
    "data = pd.read_csv('datasets_try/processed_features.csv')\n",
    "\n",
    "# Check the distribution of the 'action' column\n",
    "action_distribution = data['action'].value_counts()\n",
    "print(action_distribution)"
   ]
  },
  {
   "cell_type": "code",
   "execution_count": 26,
   "metadata": {},
   "outputs": [
    {
     "name": "stdout",
     "output_type": "stream",
     "text": [
      "Binary Classifier Accuracy on Test Data: 92.80%\n",
      "   vehicles_in_ego_lane  vehicles_in_left_lane  vehicles_in_right_lane  \\\n",
      "0                   1.0                    3.0                     4.0   \n",
      "1                   2.0                    1.0                     1.0   \n",
      "2                   4.0                    0.0                     4.0   \n",
      "3                   2.0                    1.0                     0.0   \n",
      "4                   3.0                    0.0                     1.0   \n",
      "\n",
      "   closest_in_ego_lane_dist  closest_left_lane_dist  closest_right_lane_dist  \\\n",
      "0                  61.76268                11.00473                 21.79465   \n",
      "1                  31.40597                52.71649                 84.88040   \n",
      "2                  10.71805                 0.00000                 21.06313   \n",
      "3                  10.47482                31.08163                  0.00000   \n",
      "4                  11.60712                 0.00000                 96.90985   \n",
      "\n",
      "   relative_velocity_ego_lane  relative_velocity_left_lane  \\\n",
      "0                   -1.691187                    -3.999763   \n",
      "1                   -2.216423                    -3.149021   \n",
      "2                   -3.656183                     0.000000   \n",
      "3                   -1.970623                    -3.944008   \n",
      "4                   -1.953373                     0.000000   \n",
      "\n",
      "   relative_velocity_right_lane  action  binary_target  \n",
      "0                     -1.228664     1.0              1  \n",
      "1                     -3.473845     4.0              1  \n",
      "2                     -1.032003     4.0              1  \n",
      "3                      0.000000     4.0              1  \n",
      "4                     -1.570948     4.0              1  \n"
     ]
    }
   ],
   "source": [
    "# Create a binary target variable\n",
    "data['binary_target'] = data['action'].apply(lambda x: 1 if x in [1, 4] else 0)\n",
    "\n",
    "# Split the data into features and binary target\n",
    "X_binary = data.drop(columns=['action', 'binary_target'])\n",
    "y_binary = data['binary_target']\n",
    "\n",
    "# Split the dataset into train, test, and eval sets\n",
    "X_train_binary, X_temp_binary, y_train_binary, y_temp_binary = train_test_split(X_binary, y_binary, test_size=0.3, random_state=42)\n",
    "X_test_binary, X_eval_binary, y_test_binary, y_eval_binary = train_test_split(X_temp_binary, y_temp_binary, test_size=0.5, random_state=42)\n",
    "\n",
    "# Train the binary classifier\n",
    "binary_rf_model = RandomForestClassifier(random_state=42)\n",
    "binary_rf_model.fit(X_train_binary, y_train_binary)\n",
    "\n",
    "# Evaluate the binary classifier\n",
    "y_pred_binary_test = binary_rf_model.predict(X_test_binary)\n",
    "accuracy_binary_test = accuracy_score(y_test_binary, y_pred_binary_test)\n",
    "print(f\"Binary Classifier Accuracy on Test Data: {accuracy_binary_test * 100:.2f}%\")\n",
    "\n",
    "# Save the binary classifier\n",
    "joblib.dump(binary_rf_model, 'models_try/binary_rf_model.pkl')\n",
    "print(data[:5])"
   ]
  },
  {
   "cell_type": "markdown",
   "metadata": {},
   "source": [
    "minor action classifier"
   ]
  },
  {
   "cell_type": "code",
   "execution_count": 23,
   "metadata": {},
   "outputs": [
    {
     "name": "stdout",
     "output_type": "stream",
     "text": [
      "Test Accuracy: 0.9850746268656716\n",
      "Evaluation Accuracy: 1.0\n",
      "\n",
      "Classification Report on Test Data:\n",
      "               precision    recall  f1-score   support\n",
      "\n",
      "         0.0       1.00      0.97      0.98        31\n",
      "         2.0       0.97      1.00      0.98        32\n",
      "         3.0       1.00      1.00      1.00         4\n",
      "\n",
      "    accuracy                           0.99        67\n",
      "   macro avg       0.99      0.99      0.99        67\n",
      "weighted avg       0.99      0.99      0.99        67\n",
      "\n"
     ]
    },
    {
     "data": {
      "text/plain": [
       "['models_try/minor_rf_model.pkl']"
      ]
     },
     "execution_count": 23,
     "metadata": {},
     "output_type": "execute_result"
    }
   ],
   "source": [
    "# Filter the data for classes 0, 2, and 3\n",
    "filtered_data = data[data['binary_target'] == 0]\n",
    "\n",
    "# Split the dataset into features and target\n",
    "X = filtered_data.drop(columns=['action', 'binary_target'])\n",
    "y = filtered_data['action']  # Multi-class target\n",
    "\n",
    "# Split into train, test, and eval sets\n",
    "X_train, X_temp, y_train, y_temp = train_test_split(X, y, test_size=0.3, random_state=42)\n",
    "X_test, X_eval, y_test, y_eval = train_test_split(X_temp, y_temp, test_size=0.5, random_state=42)\n",
    "\n",
    "# Train a single Random Forest classifier\n",
    "rf_model_minor = RandomForestClassifier(n_estimators=100, random_state=42)\n",
    "rf_model_minor.fit(X_train, y_train)\n",
    "\n",
    "# Make predictions\n",
    "y_pred_test = rf_model_minor.predict(X_test)\n",
    "y_pred_eval = rf_model_minor.predict(X_eval)\n",
    "\n",
    "# Evaluate performance\n",
    "print(\"Test Accuracy:\", accuracy_score(y_test, y_pred_test))\n",
    "print(\"Evaluation Accuracy:\", accuracy_score(y_eval, y_pred_eval))\n",
    "print(\"\\nClassification Report on Test Data:\\n\", classification_report(y_test, y_pred_test))\n",
    "\n",
    "# Save the binary classifier\n",
    "joblib.dump(rf_model_minor, 'models_try/minor_rf_model.pkl')\n"
   ]
  },
  {
   "cell_type": "markdown",
   "metadata": {},
   "source": [
    "major action classifier"
   ]
  },
  {
   "cell_type": "code",
   "execution_count": 22,
   "metadata": {},
   "outputs": [
    {
     "name": "stdout",
     "output_type": "stream",
     "text": [
      "Test Accuracy: 0.8755490483162518\n",
      "Evaluation Accuracy: 0.8581871345029239\n",
      "\n",
      "Classification Report on Test Data:\n",
      "               precision    recall  f1-score   support\n",
      "\n",
      "         1.0       0.86      0.91      0.89       367\n",
      "         4.0       0.89      0.83      0.86       316\n",
      "\n",
      "    accuracy                           0.88       683\n",
      "   macro avg       0.88      0.87      0.87       683\n",
      "weighted avg       0.88      0.88      0.88       683\n",
      "\n"
     ]
    },
    {
     "data": {
      "text/plain": [
       "['models_try/major_rf_model.pkl']"
      ]
     },
     "execution_count": 22,
     "metadata": {},
     "output_type": "execute_result"
    }
   ],
   "source": [
    "# Filter the data for classes 1 and 4\n",
    "filtered_data = data[data['binary_target'] == 1]\n",
    "\n",
    "# Split the dataset into features and target\n",
    "X = filtered_data.drop(columns=['action', 'binary_target'])\n",
    "y = filtered_data['action']  # Multi-class target\n",
    "\n",
    "# Split into train, test, and eval sets\n",
    "X_train, X_temp, y_train, y_temp = train_test_split(X, y, test_size=0.3, random_state=42)\n",
    "X_test, X_eval, y_test, y_eval = train_test_split(X_temp, y_temp, test_size=0.5, random_state=42)\n",
    "\n",
    "# Train a single Random Forest classifier\n",
    "rf_model_major = RandomForestClassifier(n_estimators=100, random_state=42)\n",
    "rf_model_major.fit(X_train, y_train)\n",
    "\n",
    "# Make predictions\n",
    "y_pred_test = rf_model_major.predict(X_test)\n",
    "y_pred_eval = rf_model_major.predict(X_eval)\n",
    "\n",
    "# Evaluate performance\n",
    "print(\"Test Accuracy:\", accuracy_score(y_test, y_pred_test))\n",
    "print(\"Evaluation Accuracy:\", accuracy_score(y_eval, y_pred_eval))\n",
    "print(\"\\nClassification Report on Test Data:\\n\", classification_report(y_test, y_pred_test))\n",
    "\n",
    "# Save the binary classifier\n",
    "joblib.dump(rf_model_major, 'models_try/major_rf_model.pkl')\n"
   ]
  }
 ],
 "metadata": {
  "kernelspec": {
   "display_name": "Python 3",
   "language": "python",
   "name": "python3"
  },
  "language_info": {
   "codemirror_mode": {
    "name": "ipython",
    "version": 3
   },
   "file_extension": ".py",
   "mimetype": "text/x-python",
   "name": "python",
   "nbconvert_exporter": "python",
   "pygments_lexer": "ipython3",
   "version": "3.8.10"
  }
 },
 "nbformat": 4,
 "nbformat_minor": 2
}
