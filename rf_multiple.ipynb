{
 "cells": [
  {
   "cell_type": "code",
   "execution_count": 24,
   "metadata": {},
   "outputs": [],
   "source": [
    "import argparse\n",
    "from sklearn.ensemble import RandomForestClassifier\n",
    "from sklearn.model_selection import train_test_split\n",
    "from sklearn.utils.class_weight import compute_class_weight\n",
    "from imblearn.over_sampling import SMOTE\n",
    "from sklearn.metrics import classification_report, accuracy_score, confusion_matrix, precision_score, recall_score, f1_score\n",
    "import pandas as pd\n",
    "import joblib\n",
    "import matplotlib.pyplot as plt\n",
    "import seaborn as sns\n",
    "from sklearn.utils import resample\n",
    "import numpy as np\n",
    "import xgboost as xgb\n",
    "from sklearn.svm import SVC"
   ]
  },
  {
   "cell_type": "code",
   "execution_count": 13,
   "metadata": {},
   "outputs": [
    {
     "name": "stdout",
     "output_type": "stream",
     "text": [
      "1.0    2475\n",
      "4.0    2081\n",
      "2.0     226\n",
      "0.0     189\n",
      "3.0      29\n",
      "Name: action, dtype: int64\n"
     ]
    }
   ],
   "source": [
    "# Load the dataset\n",
    "data = pd.read_csv('datasets_try/processed_features.csv')\n",
    "\n",
    "# Check the distribution of the 'action' column\n",
    "action_distribution = data['action'].value_counts()\n",
    "print(action_distribution)"
   ]
  },
  {
   "cell_type": "markdown",
   "metadata": {},
   "source": [
    "Normal\n"
   ]
  },
  {
   "cell_type": "code",
   "execution_count": 28,
   "metadata": {},
   "outputs": [
    {
     "name": "stdout",
     "output_type": "stream",
     "text": [
      "Binary Classifier Accuracy on Test Data: 95.00%\n",
      "Precision on Test Data: 96.19%\n",
      "Recall on Test Data: 98.48%\n",
      "F1-Score on Test Data: 97.33%\n",
      "\n",
      "Classification Report:\n",
      "              precision    recall  f1-score   support\n",
      "\n",
      "           0       0.74      0.53      0.62        38\n",
      "           1       0.96      0.98      0.97       462\n",
      "\n",
      "    accuracy                           0.95       500\n",
      "   macro avg       0.85      0.76      0.79       500\n",
      "weighted avg       0.95      0.95      0.95       500\n",
      "\n",
      "\n",
      "Confusion Matrix:\n",
      "[[ 20  18]\n",
      " [  7 455]]\n"
     ]
    },
    {
     "data": {
      "text/plain": [
       "['models_try/binary_rf_model.pkl']"
      ]
     },
     "execution_count": 28,
     "metadata": {},
     "output_type": "execute_result"
    }
   ],
   "source": [
    "# Create a binary target variable\n",
    "data['binary_target'] = data['action'].apply(lambda x: 1 if x in [1, 4] else 0)\n",
    "\n",
    "# Split the data into features and binary target\n",
    "X_binary = data.drop(columns=['action', 'binary_target'])\n",
    "y_binary = data['binary_target']\n",
    "\n",
    "# Split the dataset into train, test, and eval sets\n",
    "X_train_binary, X_temp_binary, y_train_binary, y_temp_binary = train_test_split(X_binary, y_binary, test_size=0.2, random_state=42)\n",
    "X_test_binary, X_eval_binary, y_test_binary, y_eval_binary = train_test_split(X_temp_binary, y_temp_binary, test_size=0.5, random_state=42)\n",
    "\n",
    "# Train the binary classifier\n",
    "binary_rf_model = RandomForestClassifier(random_state=42)\n",
    "binary_rf_model.fit(X_train_binary, y_train_binary)\n",
    "\n",
    "# Evaluate the binary classifier\n",
    "y_pred_binary_test = binary_rf_model.predict(X_test_binary)\n",
    "accuracy_binary_test = accuracy_score(y_test_binary, y_pred_binary_test)\n",
    "print(f\"Binary Classifier Accuracy on Test Data: {accuracy_binary_test * 100:.2f}%\")\n",
    "# Calculate precision, recall, and F1-score\n",
    "precision_test = precision_score(y_test_binary, y_pred_binary_test)\n",
    "recall_test = recall_score(y_test_binary, y_pred_binary_test)\n",
    "f1_test = f1_score(y_test_binary, y_pred_binary_test)\n",
    "\n",
    "# Print metrics\n",
    "print(f\"Precision on Test Data: {precision_test * 100:.2f}%\")\n",
    "print(f\"Recall on Test Data: {recall_test * 100:.2f}%\")\n",
    "print(f\"F1-Score on Test Data: {f1_test * 100:.2f}%\")\n",
    "\n",
    "# Generate a detailed classification report\n",
    "print(\"\\nClassification Report:\")\n",
    "print(classification_report(y_test_binary, y_pred_binary_test))\n",
    "\n",
    "# Generate a confusion matrix\n",
    "print(\"\\nConfusion Matrix:\")\n",
    "print(confusion_matrix(y_test_binary, y_pred_binary_test))\n",
    "\n",
    "# Save the binary classifier\n",
    "joblib.dump(binary_rf_model, 'models_try/binary_rf_model.pkl')\n",
    "#print(data[5:10])"
   ]
  },
  {
   "cell_type": "markdown",
   "metadata": {},
   "source": [
    "downsampling"
   ]
  },
  {
   "cell_type": "code",
   "execution_count": 27,
   "metadata": {},
   "outputs": [
    {
     "name": "stdout",
     "output_type": "stream",
     "text": [
      "Binary Classifier Accuracy on Test Data: 85.39%\n",
      "Precision on Test Data: 67.74%\n",
      "Recall on Test Data: 95.45%\n",
      "F1-Score on Test Data: 79.25%\n",
      "\n",
      "Classification Report:\n",
      "              precision    recall  f1-score   support\n",
      "\n",
      "           0       0.86      0.84      0.85        45\n",
      "           1       0.84      0.86      0.85        44\n",
      "\n",
      "    accuracy                           0.85        89\n",
      "   macro avg       0.85      0.85      0.85        89\n",
      "weighted avg       0.85      0.85      0.85        89\n",
      "\n",
      "\n",
      "Confusion Matrix:\n",
      "[[38  7]\n",
      " [ 6 38]]\n",
      "1.0    227\n",
      "2.0    226\n",
      "4.0    217\n",
      "0.0    189\n",
      "3.0     29\n",
      "Name: action, dtype: int64\n"
     ]
    }
   ],
   "source": [
    "\n",
    "# Assuming 'data' is your DataFrame\n",
    "# Create binary target variable\n",
    "data['binary_target'] = data['action'].apply(lambda x: 1 if x in [1, 4] else 0)\n",
    "\n",
    "# Separate majority and minority classes\n",
    "majority_class = data[data['binary_target'] == 1]\n",
    "minority_class = data[data['binary_target'] == 0]\n",
    "\n",
    "# Downsample majority class\n",
    "majority_downsampled = resample(majority_class, \n",
    "                                replace=True,    # Sample without replacement\n",
    "                                n_samples=len(minority_class),  # Match minority class size\n",
    "                                random_state=42)\n",
    "\n",
    "# Combine minority class with downsampled majority class\n",
    "balanced_data = pd.concat([majority_downsampled, minority_class])\n",
    "\n",
    "# Split the balanced data into features and target\n",
    "X_binary = balanced_data.drop(columns=['action', 'binary_target'])\n",
    "y_binary = balanced_data['binary_target']\n",
    "\n",
    "# Split the dataset into train, test, and eval sets\n",
    "X_train_binary, X_temp_binary, y_train_binary, y_temp_binary = train_test_split(X_binary, y_binary, test_size=0.2, random_state=42)\n",
    "X_test_binary, X_eval_binary, y_test_binary, y_eval_binary = train_test_split(X_temp_binary, y_temp_binary, test_size=0.5, random_state=42)\n",
    "\n",
    "# Train the binary classifier\n",
    "binary_rf_model = RandomForestClassifier(random_state=42)\n",
    "binary_rf_model.fit(X_train_binary, y_train_binary)\n",
    "\n",
    "balanced_data.to_csv('datasets_try/downsampled_data.csv', index=False)\n",
    "\n",
    "# Evaluate the binary classifier\n",
    "y_pred_binary_test = binary_rf_model.predict(X_test_binary)\n",
    "accuracy_binary_test = accuracy_score(y_test_binary, y_pred_binary_test)\n",
    "print(f\"Binary Classifier Accuracy on Test Data: {accuracy_binary_test * 100:.2f}%\")\n",
    "\n",
    "print(f\"Precision on Test Data: {precision_test * 100:.2f}%\")\n",
    "print(f\"Recall on Test Data: {recall_test * 100:.2f}%\")\n",
    "print(f\"F1-Score on Test Data: {f1_test * 100:.2f}%\")\n",
    "\n",
    "# Generate a detailed classification report\n",
    "print(\"\\nClassification Report:\")\n",
    "print(classification_report(y_test_binary, y_pred_binary_test))\n",
    "\n",
    "# Generate a confusion matrix\n",
    "print(\"\\nConfusion Matrix:\")\n",
    "print(confusion_matrix(y_test_binary, y_pred_binary_test))\n",
    "\n",
    "\n",
    "# Save the binary classifier\n",
    "joblib.dump(binary_rf_model, 'models_try/binary_rf_model_down.pkl')\n",
    "print(balanced_data['action'].value_counts())"
   ]
  },
  {
   "cell_type": "markdown",
   "metadata": {},
   "source": [
    "xgb"
   ]
  },
  {
   "cell_type": "code",
   "execution_count": 23,
   "metadata": {},
   "outputs": [
    {
     "name": "stderr",
     "output_type": "stream",
     "text": [
      "/home/prachit/.local/lib/python3.8/site-packages/xgboost/core.py:158: UserWarning: [09:03:08] WARNING: /workspace/src/learner.cc:740: \n",
      "Parameters: { \"use_label_encoder\" } are not used.\n",
      "\n",
      "  warnings.warn(smsg, UserWarning)\n"
     ]
    },
    {
     "name": "stdout",
     "output_type": "stream",
     "text": [
      "XGBoost Accuracy on Test Data: 84.27%\n",
      "Precision on Test Data: 82.61%\n",
      "Recall on Test Data: 86.36%\n",
      "F1-Score on Test Data: 84.44%\n",
      "\n",
      "Classification Report:\n",
      "              precision    recall  f1-score   support\n",
      "\n",
      "           0       0.86      0.82      0.84        45\n",
      "           1       0.83      0.86      0.84        44\n",
      "\n",
      "    accuracy                           0.84        89\n",
      "   macro avg       0.84      0.84      0.84        89\n",
      "weighted avg       0.84      0.84      0.84        89\n",
      "\n",
      "\n",
      "Confusion Matrix:\n",
      "[[37  8]\n",
      " [ 6 38]]\n"
     ]
    },
    {
     "data": {
      "text/plain": [
       "['models_try/xgb_model.pkl']"
      ]
     },
     "execution_count": 23,
     "metadata": {},
     "output_type": "execute_result"
    }
   ],
   "source": [
    "\n",
    "# Initialize the XGBoost model\n",
    "xgb_model = xgb.XGBClassifier(random_state=42, use_label_encoder=False, eval_metric='logloss')\n",
    "\n",
    "# Train the model\n",
    "xgb_model.fit(X_train_binary, y_train_binary)\n",
    "\n",
    "# Make predictions on the test set\n",
    "y_pred_test = xgb_model.predict(X_test_binary)\n",
    "\n",
    "# Evaluate the model\n",
    "accuracy_test = accuracy_score(y_test_binary, y_pred_test)\n",
    "precision_test = precision_score(y_test_binary, y_pred_test)\n",
    "recall_test = recall_score(y_test_binary, y_pred_test)\n",
    "f1_test = f1_score(y_test_binary, y_pred_test)\n",
    "\n",
    "print(f\"XGBoost Accuracy on Test Data: {accuracy_test * 100:.2f}%\")\n",
    "print(f\"Precision on Test Data: {precision_test * 100:.2f}%\")\n",
    "print(f\"Recall on Test Data: {recall_test * 100:.2f}%\")\n",
    "print(f\"F1-Score on Test Data: {f1_test * 100:.2f}%\")\n",
    "\n",
    "# Generate a detailed classification report\n",
    "print(\"\\nClassification Report:\")\n",
    "print(classification_report(y_test_binary, y_pred_test))\n",
    "\n",
    "# Generate a confusion matrix\n",
    "print(\"\\nConfusion Matrix:\")\n",
    "print(confusion_matrix(y_test_binary, y_pred_test))\n",
    "\n",
    "# Save the trained XGBoost model\n",
    "joblib.dump(xgb_model, 'models_try/xgb_model.pkl')"
   ]
  },
  {
   "cell_type": "markdown",
   "metadata": {},
   "source": [
    "svm"
   ]
  },
  {
   "cell_type": "code",
   "execution_count": 26,
   "metadata": {},
   "outputs": [
    {
     "name": "stdout",
     "output_type": "stream",
     "text": [
      "svm Accuracy on Test Data: 75.28%\n",
      "Precision on Test Data: 67.74%\n",
      "Recall on Test Data: 95.45%\n",
      "F1-Score on Test Data: 79.25%\n",
      "\n",
      "Classification Report:\n",
      "              precision    recall  f1-score   support\n",
      "\n",
      "           0       0.93      0.56      0.69        45\n",
      "           1       0.68      0.95      0.79        44\n",
      "\n",
      "    accuracy                           0.75        89\n",
      "   macro avg       0.80      0.76      0.74        89\n",
      "weighted avg       0.80      0.75      0.74        89\n",
      "\n",
      "\n",
      "Confusion Matrix:\n",
      "[[25 20]\n",
      " [ 2 42]]\n"
     ]
    },
    {
     "data": {
      "text/plain": [
       "['models_try/xgb_model.pkl']"
      ]
     },
     "execution_count": 26,
     "metadata": {},
     "output_type": "execute_result"
    }
   ],
   "source": [
    "# Initialize the SVM classifier\n",
    "svm_model = SVC(kernel='rbf', random_state=42)  # Using radial basis function kernel\n",
    "\n",
    "# Train the model\n",
    "svm_model.fit(X_train_binary, y_train_binary)\n",
    "\n",
    "# Make predictions on the test set\n",
    "y_pred_test = svm_model.predict(X_test_binary)\n",
    "\n",
    "# Evaluate the model\n",
    "accuracy_test = accuracy_score(y_test_binary, y_pred_test)\n",
    "precision_test = precision_score(y_test_binary, y_pred_test)\n",
    "recall_test = recall_score(y_test_binary, y_pred_test)\n",
    "f1_test = f1_score(y_test_binary, y_pred_test)\n",
    "\n",
    "print(f\"svm Accuracy on Test Data: {accuracy_test * 100:.2f}%\")\n",
    "print(f\"Precision on Test Data: {precision_test * 100:.2f}%\")\n",
    "print(f\"Recall on Test Data: {recall_test * 100:.2f}%\")\n",
    "print(f\"F1-Score on Test Data: {f1_test * 100:.2f}%\")\n",
    "\n",
    "# Generate a detailed classification report\n",
    "print(\"\\nClassification Report:\")\n",
    "print(classification_report(y_test_binary, y_pred_test))\n",
    "\n",
    "# Generate a confusion matrix\n",
    "print(\"\\nConfusion Matrix:\")\n",
    "print(confusion_matrix(y_test_binary, y_pred_test))\n",
    "\n",
    "# Save the trained XGBoost model\n",
    "joblib.dump(xgb_model, 'models_try/xgb_model.pkl')"
   ]
  },
  {
   "cell_type": "code",
   "execution_count": null,
   "metadata": {},
   "outputs": [],
   "source": []
  },
  {
   "cell_type": "markdown",
   "metadata": {},
   "source": [
    "class  weights"
   ]
  },
  {
   "cell_type": "code",
   "execution_count": 6,
   "metadata": {},
   "outputs": [
    {
     "name": "stdout",
     "output_type": "stream",
     "text": [
      "Binary Classifier Accuracy on Test Data: 94.60%\n",
      "Precision on Test Data: 96.19%\n",
      "Recall on Test Data: 98.48%\n",
      "F1-Score on Test Data: 97.33%\n",
      "\n",
      "Classification Report:\n",
      "              precision    recall  f1-score   support\n",
      "\n",
      "           0       0.79      0.39      0.53        38\n",
      "           1       0.95      0.99      0.97       462\n",
      "\n",
      "    accuracy                           0.95       500\n",
      "   macro avg       0.87      0.69      0.75       500\n",
      "weighted avg       0.94      0.95      0.94       500\n",
      "\n",
      "\n",
      "Confusion Matrix:\n",
      "[[ 15  23]\n",
      " [  4 458]]\n"
     ]
    },
    {
     "data": {
      "text/plain": [
       "['models_try/binary_rf_model.pkl']"
      ]
     },
     "execution_count": 6,
     "metadata": {},
     "output_type": "execute_result"
    }
   ],
   "source": [
    "# Create binary target variable\n",
    "data['binary_target'] = data['action'].apply(lambda x: 1 if x in [1, 4] else 0)\n",
    "\n",
    "# Split the data into features and target\n",
    "X_binary = data.drop(columns=['action', 'binary_target'])\n",
    "y_binary = data['binary_target']\n",
    "\n",
    "# Split the dataset into train, test, and eval sets\n",
    "X_train_binary, X_temp_binary, y_train_binary, y_temp_binary = train_test_split(X_binary, y_binary, test_size=0.2, random_state=42)\n",
    "X_test_binary, X_eval_binary, y_test_binary, y_eval_binary = train_test_split(X_temp_binary, y_temp_binary, test_size=0.5, random_state=42)\n",
    "\n",
    "# Train the binary classifier with class weights\n",
    "binary_rf_model = RandomForestClassifier(class_weight='balanced', random_state=42)\n",
    "binary_rf_model.fit(X_train_binary, y_train_binary)\n",
    "\n",
    "# Evaluate the binary classifier\n",
    "y_pred_binary_test = binary_rf_model.predict(X_test_binary)\n",
    "accuracy_binary_test = accuracy_score(y_test_binary, y_pred_binary_test)\n",
    "print(f\"Binary Classifier Accuracy on Test Data: {accuracy_binary_test * 100:.2f}%\")\n",
    "print(f\"Precision on Test Data: {precision_test * 100:.2f}%\")\n",
    "print(f\"Recall on Test Data: {recall_test * 100:.2f}%\")\n",
    "print(f\"F1-Score on Test Data: {f1_test * 100:.2f}%\")\n",
    "\n",
    "# Generate a detailed classification report\n",
    "print(\"\\nClassification Report:\")\n",
    "print(classification_report(y_test_binary, y_pred_binary_test))\n",
    "\n",
    "# Generate a confusion matrix\n",
    "print(\"\\nConfusion Matrix:\")\n",
    "print(confusion_matrix(y_test_binary, y_pred_binary_test))\n",
    "\n",
    "# Save the binary classifier\n",
    "joblib.dump(binary_rf_model, 'models_try/binary_rf_model.pkl')"
   ]
  },
  {
   "cell_type": "markdown",
   "metadata": {},
   "source": [
    "minor action classifier"
   ]
  },
  {
   "cell_type": "code",
   "execution_count": null,
   "metadata": {},
   "outputs": [
    {
     "name": "stdout",
     "output_type": "stream",
     "text": [
      "    vehicles_in_ego_lane  vehicles_in_left_lane  vehicles_in_right_lane  \\\n",
      "24                   2.0                    1.0                     3.0   \n",
      "30                   3.0                    3.0                     0.0   \n",
      "36                   3.0                    2.0                     0.0   \n",
      "41                   2.0                    0.0                     3.0   \n",
      "51                   3.0                    0.0                     0.0   \n",
      "\n",
      "    closest_in_ego_lane_dist  closest_left_lane_dist  closest_right_lane_dist  \\\n",
      "24                  18.81757                 9.06516                 40.23717   \n",
      "30                   9.58334                29.39624                  0.00000   \n",
      "36                   9.92166                19.45256                  0.00000   \n",
      "41                  20.96758                 0.00000                 51.98688   \n",
      "51                  19.54549             10000.00000                  0.00000   \n",
      "\n",
      "    relative_velocity_ego_lane  relative_velocity_left_lane  \\\n",
      "24                   -3.654740                    -3.856583   \n",
      "30                   -3.752863                    -2.280054   \n",
      "36                   -1.410088                    -2.615595   \n",
      "41                   -1.719332                     0.000000   \n",
      "51                   -1.549301                 10000.000000   \n",
      "\n",
      "    relative_velocity_right_lane  action  binary_target  \n",
      "24                     -1.594263     2.0              0  \n",
      "30                      0.000000     0.0              0  \n",
      "36                      0.000000     0.0              0  \n",
      "41                     -2.670877     2.0              0  \n",
      "51                      0.000000     0.0              0  \n",
      "Test Accuracy: 0.9772727272727273\n",
      "Evaluation Accuracy: 1.0\n",
      "\n",
      "Classification Report on Test Data:\n",
      "               precision    recall  f1-score   support\n",
      "\n",
      "         0.0       1.00      0.96      0.98        23\n",
      "         2.0       0.95      1.00      0.97        19\n",
      "         3.0       1.00      1.00      1.00         2\n",
      "\n",
      "    accuracy                           0.98        44\n",
      "   macro avg       0.98      0.99      0.98        44\n",
      "weighted avg       0.98      0.98      0.98        44\n",
      "\n"
     ]
    },
    {
     "data": {
      "text/plain": [
       "['models_try/minor_rf_model.pkl']"
      ]
     },
     "execution_count": 12,
     "metadata": {},
     "output_type": "execute_result"
    }
   ],
   "source": [
    "# Filter the data for classes 0, 2, and 3\n",
    "filtered_data = data[data['binary_target'] == 0]\n",
    "print(filtered_data[0:5])\n",
    "\n",
    "# Split the dataset into features and target\n",
    "X = filtered_data.drop(columns=['action', 'binary_target'])\n",
    "y = filtered_data['action']  # Multi-class target\n",
    "\n",
    "# Split into train, test, and eval sets\n",
    "X_train, X_temp, y_train, y_temp = train_test_split(X, y, test_size=0.2, random_state=42)\n",
    "X_test, X_eval, y_test, y_eval = train_test_split(X_temp, y_temp, test_size=0.5, random_state=42)\n",
    "\n",
    "# Train a single Random Forest classifier\n",
    "rf_model_minor = RandomForestClassifier(n_estimators=100, random_state=42)\n",
    "rf_model_minor.fit(X_train, y_train)\n",
    "\n",
    "# Make predictions\n",
    "y_pred_test = rf_model_minor.predict(X_test)\n",
    "y_pred_eval = rf_model_minor.predict(X_eval)\n",
    "\n",
    "# Evaluate performance\n",
    "print(\"Test Accuracy:\", accuracy_score(y_test, y_pred_test))\n",
    "print(\"Evaluation Accuracy:\", accuracy_score(y_eval, y_pred_eval))\n",
    "print(\"\\nClassification Report on Test Data:\\n\", classification_report(y_test, y_pred_test))\n",
    "\n",
    "# Save the binary classifier\n",
    "joblib.dump(rf_model_minor, 'models_try/minor_rf_model.pkl')\n"
   ]
  },
  {
   "cell_type": "markdown",
   "metadata": {},
   "source": [
    "major action classifier"
   ]
  },
  {
   "cell_type": "code",
   "execution_count": null,
   "metadata": {},
   "outputs": [
    {
     "name": "stdout",
     "output_type": "stream",
     "text": [
      "   vehicles_in_ego_lane  vehicles_in_left_lane  vehicles_in_right_lane  \\\n",
      "0                   1.0                    3.0                     4.0   \n",
      "1                   2.0                    1.0                     1.0   \n",
      "2                   4.0                    0.0                     4.0   \n",
      "3                   2.0                    1.0                     0.0   \n",
      "4                   3.0                    0.0                     1.0   \n",
      "\n",
      "   closest_in_ego_lane_dist  closest_left_lane_dist  closest_right_lane_dist  \\\n",
      "0                  61.76268                11.00473                 21.79465   \n",
      "1                  31.40597                52.71649                 84.88040   \n",
      "2                  10.71805                 0.00000                 21.06313   \n",
      "3                  10.47482                31.08163                  0.00000   \n",
      "4                  11.60712                 0.00000                 96.90985   \n",
      "\n",
      "   relative_velocity_ego_lane  relative_velocity_left_lane  \\\n",
      "0                   -1.691187                    -3.999763   \n",
      "1                   -2.216423                    -3.149021   \n",
      "2                   -3.656183                     0.000000   \n",
      "3                   -1.970623                    -3.944008   \n",
      "4                   -1.953373                     0.000000   \n",
      "\n",
      "   relative_velocity_right_lane  action  binary_target  \n",
      "0                     -1.228664     1.0              1  \n",
      "1                     -3.473845     4.0              1  \n",
      "2                     -1.032003     4.0              1  \n",
      "3                      0.000000     4.0              1  \n",
      "4                     -1.570948     4.0              1  \n",
      "Test Accuracy: 0.8837719298245614\n",
      "Evaluation Accuracy: 0.8486842105263158\n",
      "\n",
      "Classification Report on Test Data:\n",
      "               precision    recall  f1-score   support\n",
      "\n",
      "         1.0       0.89      0.90      0.89       251\n",
      "         4.0       0.87      0.87      0.87       205\n",
      "\n",
      "    accuracy                           0.88       456\n",
      "   macro avg       0.88      0.88      0.88       456\n",
      "weighted avg       0.88      0.88      0.88       456\n",
      "\n"
     ]
    },
    {
     "data": {
      "text/plain": [
       "['models_try/major_rf_model.pkl']"
      ]
     },
     "execution_count": 13,
     "metadata": {},
     "output_type": "execute_result"
    }
   ],
   "source": [
    "# Filter the data for classes 1 and 4\n",
    "filtered_data = data[data['binary_target'] == 1]\n",
    "print(filtered_data[0:5])\n",
    "\n",
    "# Split the dataset into features and target\n",
    "X = filtered_data.drop(columns=['action', 'binary_target'])\n",
    "y = filtered_data['action']  # Multi-class target\n",
    "\n",
    "# Split into train, test, and eval sets\n",
    "X_train, X_temp, y_train, y_temp = train_test_split(X, y, test_size=0.2, random_state=42)\n",
    "X_test, X_eval, y_test, y_eval = train_test_split(X_temp, y_temp, test_size=0.5, random_state=42)\n",
    "\n",
    "# Train a single Random Forest classifier\n",
    "rf_model_major = RandomForestClassifier(n_estimators=100, random_state=42)\n",
    "rf_model_major.fit(X_train, y_train)\n",
    "\n",
    "# Make predictions\n",
    "y_pred_test = rf_model_major.predict(X_test)\n",
    "y_pred_eval = rf_model_major.predict(X_eval)\n",
    "\n",
    "# Evaluate performance\n",
    "print(\"Test Accuracy:\", accuracy_score(y_test, y_pred_test))\n",
    "print(\"Evaluation Accuracy:\", accuracy_score(y_eval, y_pred_eval))\n",
    "print(\"\\nClassification Report on Test Data:\\n\", classification_report(y_test, y_pred_test))\n",
    "\n",
    "# Save the binary classifier\n",
    "joblib.dump(rf_model_major, 'models_try/major_rf_model.pkl')\n"
   ]
  }
 ],
 "metadata": {
  "kernelspec": {
   "display_name": "Python 3",
   "language": "python",
   "name": "python3"
  },
  "language_info": {
   "codemirror_mode": {
    "name": "ipython",
    "version": 3
   },
   "file_extension": ".py",
   "mimetype": "text/x-python",
   "name": "python",
   "nbconvert_exporter": "python",
   "pygments_lexer": "ipython3",
   "version": "3.8.10"
  }
 },
 "nbformat": 4,
 "nbformat_minor": 2
}
