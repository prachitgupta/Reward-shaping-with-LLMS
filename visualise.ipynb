{
 "cells": [
  {
   "cell_type": "code",
   "execution_count": 2,
   "metadata": {},
   "outputs": [
    {
     "name": "stderr",
     "output_type": "stream",
     "text": [
      "2025-01-30 21:22:54.009574: I tensorflow/core/util/port.cc:110] oneDNN custom operations are on. You may see slightly different numerical results due to floating-point round-off errors from different computation orders. To turn them off, set the environment variable `TF_ENABLE_ONEDNN_OPTS=0`.\n",
      "2025-01-30 21:22:54.056911: I tensorflow/tsl/cuda/cudart_stub.cc:28] Could not find cuda drivers on your machine, GPU will not be used.\n",
      "2025-01-30 21:22:54.457371: I tensorflow/core/platform/cpu_feature_guard.cc:182] This TensorFlow binary is optimized to use available CPU instructions in performance-critical operations.\n",
      "To enable the following instructions: AVX2 AVX512F AVX512_VNNI FMA, in other operations, rebuild TensorFlow with the appropriate compiler flags.\n",
      "2025-01-30 21:22:55.933722: W tensorflow/compiler/tf2tensorrt/utils/py_utils.cc:38] TF-TRT Warning: Could not find TensorRT\n"
     ]
    }
   ],
   "source": [
    "import gymnasium as gym\n",
    "import highway_env\n",
    "\n",
    "# Agent\n",
    "from stable_baselines3 import DQN\n",
    "\n",
    "\n",
    "import sys\n",
    "from tqdm.notebook import trange\n",
    "\n",
    "from stable_baselines3 import DQN\n",
    "import pprint\n",
    "from matplotlib import pyplot as plt\n",
    "import numpy as np\n",
    "import joblib\n",
    "from tqdm import trange"
   ]
  },
  {
   "cell_type": "code",
   "execution_count": 3,
   "metadata": {},
   "outputs": [],
   "source": [
    "import base64\n",
    "from pathlib import Path\n",
    "\n",
    "from gymnasium.wrappers import RecordVideo\n",
    "from IPython import display as ipythondisplay\n",
    "from pyvirtualdisplay import Display\n",
    "\n",
    "\n",
    "\n",
    "def record_videos(env, video_folder=\"videos\"):\n",
    "    wrapped = RecordVideo(\n",
    "        env, video_folder=video_folder, episode_trigger=lambda e: True\n",
    "    )\n",
    "\n",
    "    # Capture intermediate frames\n",
    "    env.unwrapped.set_record_video_wrapper(wrapped)\n",
    "\n",
    "    return wrapped\n",
    "\n",
    "\n",
    "def show_videos(path=\"videos\"):\n",
    "    html = []\n",
    "    for mp4 in Path(path).glob(\"*.mp4\"):\n",
    "        video_b64 = base64.b64encode(mp4.read_bytes())\n",
    "        html.append(\n",
    "            \"\"\"<video alt=\"{}\" autoplay\n",
    "                      loop controls style=\"height: 400px;\">\n",
    "                      <source src=\"data:video/mp4;base64,{}\" type=\"video/mp4\" />\n",
    "                 </video>\"\"\".format(\n",
    "                mp4, video_b64.decode(\"ascii\")\n",
    "            )\n",
    "        )\n",
    "    ipythondisplay.display(ipythondisplay.HTML(data=\"<br>\".join(html)))\n"
   ]
  },
  {
   "cell_type": "markdown",
   "metadata": {},
   "source": [
    "modify obs"
   ]
  },
  {
   "cell_type": "code",
   "execution_count": 4,
   "metadata": {},
   "outputs": [],
   "source": [
    "def extract_features_from_dataset(row):\n",
    "    \"\"\"\n",
    "    Extract features from the dataset based on the given criteria.\n",
    "    \"\"\"\n",
    "    processed_data = []\n",
    "\n",
    "    # Ego vehicle features\n",
    "    ego_features = row[:5]\n",
    "    ego_lane = ego_features[2] // 4 + 1  # Lane ID of ego vehicle\n",
    "    ego_speed = ego_features[3]  # Speed of ego vehicle\n",
    "\n",
    "    # Other vehicles' features\n",
    "    other_vehicles = row[5:50].reshape(9, 5)  # 9 vehicles, 5 features each\n",
    "    \n",
    "    # Separate features of other vehicles\n",
    "    other_lanes = other_vehicles[:, 2] // 4 + 1  # Lane IDs of other vehicles\n",
    "    distances = np.abs(other_vehicles[:, 1] - ego_features[1])  # Distances from ego vehicle\n",
    "    relative_velocities = other_vehicles[:, 3] - ego_speed  # Relative velocities\n",
    "\n",
    "    # Number of vehicles in ego lane and adjacent lanes\n",
    "    vehicles_in_ego_lane = np.sum(other_lanes == ego_lane)\n",
    "    vehicles_in_left_lane = np.sum(other_lanes == ego_lane - 1)\n",
    "    vehicles_in_right_lane = np.sum(other_lanes == ego_lane + 1)\n",
    "\n",
    "    ## Closest vehicles\n",
    "    closest_ego_index = np.where(other_lanes == ego_lane, distances, np.inf).argmin() if vehicles_in_ego_lane != 0 else np.nan\n",
    "    closest_left_index = np.where(other_lanes == ego_lane - 1, distances, np.inf).argmin() if vehicles_in_left_lane != 0 else np.nan\n",
    "    closest_right_index = np.where(other_lanes == ego_lane + 1, distances, np.inf).argmin() if vehicles_in_right_lane != 0 else np.nan\n",
    "\n",
    "    # Distances of other vehicles\n",
    "    ## Ego lane\n",
    "    if np.isnan(closest_ego_index):\n",
    "        closest_in_ego_lane_dist = 10000  # Assign large value for no vehicle\n",
    "        relative_velocity_ego_lane = 10000 \n",
    "    else:\n",
    "        closest_in_ego_lane_dist = distances[closest_ego_index]\n",
    "        relative_velocity_ego_lane = relative_velocities[closest_ego_index]\n",
    "    \n",
    "    ## Left lane\n",
    "    if np.isnan(closest_left_index):\n",
    "        # Check if the left lane is non-existent (i.e., topmost lane)\n",
    "        if ego_lane == 1:\n",
    "            closest_left_lane_dist = 0  # No lane to the left of topmost lane\n",
    "            relative_velocity_left_lane = 0  # No vehicle in non-existent lane\n",
    "        else:\n",
    "            closest_left_lane_dist = 10000  # No vehicle in left lane\n",
    "            relative_velocity_left_lane = 10000  # No vehicle in left lane\n",
    "    else:\n",
    "        closest_left_lane_dist = distances[closest_left_index]\n",
    "        relative_velocity_left_lane = relative_velocities[closest_left_index]\n",
    "    \n",
    "    ## Right lane\n",
    "    if np.isnan(closest_right_index):\n",
    "        # Check if the right lane is non-existent (i.e., bottommost lane)\n",
    "        if ego_lane == 4:\n",
    "            closest_right_lane_dist = 0  # No lane to the right of bottommost lane\n",
    "            relative_velocity_right_lane = 0  # No vehicle in non-existent lane\n",
    "        else:\n",
    "            closest_right_lane_dist = 10000  # No vehicle in right lane\n",
    "            relative_velocity_right_lane = 10000  # No vehicle in right lane\n",
    "    else:\n",
    "        closest_right_lane_dist = distances[closest_right_index]\n",
    "        relative_velocity_right_lane = relative_velocities[closest_right_index]\n",
    "\n",
    "    # Append computed features\n",
    "    processed_data.append([\n",
    "        vehicles_in_ego_lane,\n",
    "        vehicles_in_left_lane,\n",
    "        vehicles_in_right_lane,\n",
    "        closest_in_ego_lane_dist,\n",
    "        closest_left_lane_dist,\n",
    "        closest_right_lane_dist,\n",
    "        relative_velocity_ego_lane,\n",
    "        relative_velocity_left_lane,\n",
    "        relative_velocity_right_lane\n",
    "    ])\n",
    "\n",
    "    return np.array(processed_data)"
   ]
  },
  {
   "cell_type": "code",
   "execution_count": 5,
   "metadata": {},
   "outputs": [],
   "source": [
    "# def extract_features_from_dataset(row):\n",
    "#     \"\"\"\n",
    "#     Extract features from the dataset based on the given criteria.\n",
    "#     \"\"\"\n",
    "#     processed_data = []\n",
    "\n",
    "#     # Ego vehicle features\n",
    "#     ego_features = row[:5]\n",
    "#     ego_lane = ego_features[2]//4 + 1  # Lane ID of ego vehicle\n",
    "#     ego_speed = ego_features[3]  # Speed of ego vehicle\n",
    "\n",
    "#     # Other vehicles' features\n",
    "#     other_vehicles = row[5:50].reshape(9, 5)  # 9 vehicles, 5 features each\n",
    "#     # actions = row[50]\n",
    "#     # Separate features of other vehicles\n",
    "#     other_lanes = other_vehicles[:, 2] // 4 + 1  # Lane IDs of other vehicles\n",
    "#     distances = np.abs(other_vehicles[:, 1] - ego_features[1])  # Distances from ego vehicle\n",
    "#     relative_velocities = other_vehicles[:, 3] - ego_speed  # Relative velocities\n",
    "\n",
    "#     # Number of vehicles in ego lane and adjacent lanes\n",
    "#     vehicles_in_ego_lane = np.sum(other_lanes == ego_lane)\n",
    "#     vehicles_in_left_lane = np.sum(other_lanes == ego_lane - 1)\n",
    "#     vehicles_in_right_lane = np.sum(other_lanes == ego_lane + 1)\n",
    "\n",
    "#     ## Closest vehicles\n",
    "#     closest_ego_index = np.where(other_lanes == ego_lane, distances, np.inf).argmin() if vehicles_in_ego_lane !=0 else np.NAN\n",
    "#     closest_left_index = np.where(other_lanes == ego_lane - 1, distances, np.inf).argmin() if vehicles_in_left_lane !=0 else np.NAN\n",
    "#     closest_right_index = np.where(other_lanes == ego_lane + 1, distances, np.inf).argmin() if vehicles_in_right_lane !=0 else np.NAN\n",
    "\n",
    "#     # Distances of other vehicles\n",
    "#     ##ego\n",
    "#     if np.isnan(closest_ego_index):\n",
    "#         closest_in_ego_lane_dist = 10000  # Assign large value for no vehicle\n",
    "#     else:\n",
    "#         closest_in_ego_lane_dist = distances[closest_ego_index]  \n",
    "#     ##left\n",
    "#     if np.isnan(closest_left_index):\n",
    "#         closest_left_lane_dist = 10000  # Assign default value for no vehicle\n",
    "#     else:\n",
    "#         closest_left_lane_dist = distances[closest_left_index]  \n",
    "#     ##right\n",
    "#     if np.isnan(closest_right_index):\n",
    "#         closest_right_lane_dist = 10000  # Assign default value for no vehicle\n",
    "#     else:\n",
    "#         closest_right_lane_dist = distances[closest_right_index]  \n",
    "\n",
    "#     ##relative velocities of closest vehicles\n",
    "#     ##ego\n",
    "#     if np.isnan(closest_ego_index):\n",
    "#         relative_velocity_ego_lane = 10000  # Assign large value for no vehicle\n",
    "#     else:\n",
    "#         relative_velocity_ego_lane = relative_velocities[closest_ego_index]  \n",
    "#     ##left\n",
    "#     if np.isnan(closest_left_index):\n",
    "#         relative_velocity_left_lane = 10000  # Assign large value for no vehicle\n",
    "#     else:\n",
    "#         relative_velocity_left_lane = relative_velocities[closest_left_index]  \n",
    "#     ##right\n",
    "#     if np.isnan(closest_right_index):\n",
    "#         relative_velocity_right_lane = 10000  # Assign large value for no vehicle\n",
    "#     else:\n",
    "#         relative_velocity_right_lane = relative_velocities[closest_right_index]  \n",
    "    \n",
    "# # Append computed features\n",
    "#     processed_data.append([\n",
    "#         vehicles_in_ego_lane,\n",
    "#         vehicles_in_left_lane,\n",
    "#         vehicles_in_right_lane,\n",
    "#         closest_in_ego_lane_dist,\n",
    "#         closest_left_lane_dist,\n",
    "#         closest_right_lane_dist,\n",
    "#         relative_velocity_ego_lane,\n",
    "#         relative_velocity_left_lane,\n",
    "#         relative_velocity_right_lane\n",
    "#     ])\n",
    "\n",
    "#     return np.array(processed_data)"
   ]
  },
  {
   "cell_type": "markdown",
   "metadata": {},
   "source": [
    "generate evaluation dataset"
   ]
  },
  {
   "cell_type": "code",
   "execution_count": 6,
   "metadata": {},
   "outputs": [],
   "source": [
    "def process(obs):\n",
    "    ##load model\n",
    "    rf_model = joblib.load(\"models_try/rf_test_no_smote\")\n",
    "    #print(f\"Model loaded\")\n",
    "    ##\n",
    "    obs_flat = obs.flatten() # Flatten and reshape observation\n",
    "  \n",
    "    obs_processed = extract_features_from_dataset(obs_flat)\n",
    "    #processed_obs.append(obs_processed)\n",
    "    print(obs_processed)\n"
   ]
  },
  {
   "cell_type": "code",
   "execution_count": 13,
   "metadata": {},
   "outputs": [],
   "source": [
    "def rf_query(obs):\n",
    "    ##load model\n",
    "    rf_model_binary = joblib.load(\"models_try/binary_rf_model.pkl\")\n",
    "    rf_model_major = joblib.load(\"models_try/major_rf_model.pkl\")\n",
    "    rf_model_minor = joblib.load(\"models_try/minor_rf_model.pkl\")\n",
    "    #print(f\"Model loaded\")\n",
    "    ##\n",
    "    obs_flat = obs.flatten() # Flatten and reshape observation\n",
    "  \n",
    "    obs_processed = extract_features_from_dataset(obs_flat)\n",
    "    #print(obs_processed)\n",
    "    if(rf_model_binary.predict(obs_processed)[0]== 0):\n",
    "        return rf_model_minor.predict(obs_processed)[0]\n",
    "    else:\n",
    "        return rf_model_major.predict(obs_processed)[0]"
   ]
  },
  {
   "cell_type": "code",
   "execution_count": 15,
   "metadata": {},
   "outputs": [
    {
     "name": "stderr",
     "output_type": "stream",
     "text": [
      "/home/prachit/.local/lib/python3.8/site-packages/gymnasium/wrappers/record_video.py:94: UserWarning: \u001b[33mWARN: Overwriting existing videos at /home/prachit/Desktop/Reward-shaping-with-LLMS/videos/test_safe_rf folder (try specifying a different `video_folder` for the `RecordVideo` wrapper if this is not desired)\u001b[0m\n",
      "  logger.warn(\n",
      "Test episodes:   0%|          | 0/3 [00:00<?, ?it/s]"
     ]
    },
    {
     "name": "stdout",
     "output_type": "stream",
     "text": [
      "[[ 3.00000000e+00  0.00000000e+00  0.00000000e+00  2.20387726e+01\n",
      "   0.00000000e+00  1.00000000e+04 -1.28134155e+00  0.00000000e+00\n",
      "   1.00000000e+04]]\n"
     ]
    },
    {
     "name": "stderr",
     "output_type": "stream",
     "text": [
      "/home/prachit/.local/lib/python3.8/site-packages/sklearn/base.py:465: UserWarning: X does not have valid feature names, but RandomForestClassifier was fitted with feature names\n",
      "  warnings.warn(\n",
      "/home/prachit/.local/lib/python3.8/site-packages/sklearn/base.py:465: UserWarning: X does not have valid feature names, but RandomForestClassifier was fitted with feature names\n",
      "  warnings.warn(\n"
     ]
    },
    {
     "name": "stdout",
     "output_type": "stream",
     "text": [
      "[[ 3.00000000e+00  0.00000000e+00  0.00000000e+00  1.86234589e+01\n",
      "   0.00000000e+00  1.00000000e+04 -3.88529778e+00  0.00000000e+00\n",
      "   1.00000000e+04]]\n"
     ]
    },
    {
     "name": "stderr",
     "output_type": "stream",
     "text": [
      "/home/prachit/.local/lib/python3.8/site-packages/sklearn/base.py:465: UserWarning: X does not have valid feature names, but RandomForestClassifier was fitted with feature names\n",
      "  warnings.warn(\n",
      "/home/prachit/.local/lib/python3.8/site-packages/sklearn/base.py:465: UserWarning: X does not have valid feature names, but RandomForestClassifier was fitted with feature names\n",
      "  warnings.warn(\n"
     ]
    },
    {
     "name": "stdout",
     "output_type": "stream",
     "text": [
      "[[ 3.          0.          1.         14.82951355  0.         67.95291138\n",
      "  -4.61565971  0.         -8.96870708]]\n"
     ]
    },
    {
     "name": "stderr",
     "output_type": "stream",
     "text": [
      "/home/prachit/.local/lib/python3.8/site-packages/sklearn/base.py:465: UserWarning: X does not have valid feature names, but RandomForestClassifier was fitted with feature names\n",
      "  warnings.warn(\n",
      "/home/prachit/.local/lib/python3.8/site-packages/sklearn/base.py:465: UserWarning: X does not have valid feature names, but RandomForestClassifier was fitted with feature names\n",
      "  warnings.warn(\n"
     ]
    },
    {
     "name": "stdout",
     "output_type": "stream",
     "text": [
      "[[ 3.          0.          1.          7.17724609  0.         61.52822876\n",
      "  -7.26534367  0.         -4.62859535]]\n"
     ]
    },
    {
     "name": "stderr",
     "output_type": "stream",
     "text": [
      "/home/prachit/.local/lib/python3.8/site-packages/sklearn/base.py:465: UserWarning: X does not have valid feature names, but RandomForestClassifier was fitted with feature names\n",
      "  warnings.warn(\n",
      "/home/prachit/.local/lib/python3.8/site-packages/sklearn/base.py:465: UserWarning: X does not have valid feature names, but RandomForestClassifier was fitted with feature names\n",
      "  warnings.warn(\n"
     ]
    },
    {
     "name": "stdout",
     "output_type": "stream",
     "text": [
      "[[ 3.          0.          1.          2.62661743  0.         59.52914429\n",
      "  -2.59738255  0.         -0.24129486]]\n"
     ]
    },
    {
     "name": "stderr",
     "output_type": "stream",
     "text": [
      "/home/prachit/.local/lib/python3.8/site-packages/sklearn/base.py:465: UserWarning: X does not have valid feature names, but RandomForestClassifier was fitted with feature names\n",
      "  warnings.warn(\n",
      "/home/prachit/.local/lib/python3.8/site-packages/sklearn/base.py:465: UserWarning: X does not have valid feature names, but RandomForestClassifier was fitted with feature names\n",
      "  warnings.warn(\n"
     ]
    },
    {
     "name": "stdout",
     "output_type": "stream",
     "text": [
      "[[ 3.          0.          1.          2.79852295  0.         61.75604248\n",
      "   2.12755108  0.          3.78267479]]\n"
     ]
    },
    {
     "name": "stderr",
     "output_type": "stream",
     "text": [
      "/home/prachit/.local/lib/python3.8/site-packages/sklearn/base.py:465: UserWarning: X does not have valid feature names, but RandomForestClassifier was fitted with feature names\n",
      "  warnings.warn(\n",
      "/home/prachit/.local/lib/python3.8/site-packages/sklearn/base.py:465: UserWarning: X does not have valid feature names, but RandomForestClassifier was fitted with feature names\n",
      "  warnings.warn(\n"
     ]
    },
    {
     "name": "stdout",
     "output_type": "stream",
     "text": [
      "[[ 3.          0.          1.          7.64428711  0.         67.83337402\n",
      "   6.73070621  0.          7.44955158]]\n"
     ]
    },
    {
     "name": "stderr",
     "output_type": "stream",
     "text": [
      "/home/prachit/.local/lib/python3.8/site-packages/sklearn/base.py:465: UserWarning: X does not have valid feature names, but RandomForestClassifier was fitted with feature names\n",
      "  warnings.warn(\n",
      "/home/prachit/.local/lib/python3.8/site-packages/sklearn/base.py:465: UserWarning: X does not have valid feature names, but RandomForestClassifier was fitted with feature names\n",
      "  warnings.warn(\n"
     ]
    },
    {
     "name": "stdout",
     "output_type": "stream",
     "text": [
      "[[ 3.          0.          1.         17.0239563   0.         77.45370483\n",
      "  11.18663597  0.         10.87635994]]\n"
     ]
    },
    {
     "name": "stderr",
     "output_type": "stream",
     "text": [
      "/home/prachit/.local/lib/python3.8/site-packages/sklearn/base.py:465: UserWarning: X does not have valid feature names, but RandomForestClassifier was fitted with feature names\n",
      "  warnings.warn(\n",
      "/home/prachit/.local/lib/python3.8/site-packages/sklearn/base.py:465: UserWarning: X does not have valid feature names, but RandomForestClassifier was fitted with feature names\n",
      "  warnings.warn(\n"
     ]
    },
    {
     "name": "stdout",
     "output_type": "stream",
     "text": [
      "[[ 3.          0.          1.         30.79727173  0.         90.44662476\n",
      "  15.51407719  0.         14.21480846]]\n"
     ]
    },
    {
     "name": "stderr",
     "output_type": "stream",
     "text": [
      "/home/prachit/.local/lib/python3.8/site-packages/sklearn/base.py:465: UserWarning: X does not have valid feature names, but RandomForestClassifier was fitted with feature names\n",
      "  warnings.warn(\n",
      "/home/prachit/.local/lib/python3.8/site-packages/sklearn/base.py:465: UserWarning: X does not have valid feature names, but RandomForestClassifier was fitted with feature names\n",
      "  warnings.warn(\n"
     ]
    },
    {
     "name": "stdout",
     "output_type": "stream",
     "text": [
      "[[ 2.          0.          2.         46.83908081  0.         64.95022583\n",
      "  16.42540932  0.         16.2250042 ]]\n"
     ]
    },
    {
     "name": "stderr",
     "output_type": "stream",
     "text": [
      "/home/prachit/.local/lib/python3.8/site-packages/sklearn/base.py:465: UserWarning: X does not have valid feature names, but RandomForestClassifier was fitted with feature names\n",
      "  warnings.warn(\n",
      "/home/prachit/.local/lib/python3.8/site-packages/sklearn/base.py:465: UserWarning: X does not have valid feature names, but RandomForestClassifier was fitted with feature names\n",
      "  warnings.warn(\n"
     ]
    },
    {
     "name": "stdout",
     "output_type": "stream",
     "text": [
      "[[ 2.          0.          2.         63.42120361  0.         80.99716187\n",
      "  16.69651413  0.         15.78814316]]\n"
     ]
    },
    {
     "name": "stderr",
     "output_type": "stream",
     "text": [
      "/home/prachit/.local/lib/python3.8/site-packages/sklearn/base.py:465: UserWarning: X does not have valid feature names, but RandomForestClassifier was fitted with feature names\n",
      "  warnings.warn(\n",
      "/home/prachit/.local/lib/python3.8/site-packages/sklearn/base.py:465: UserWarning: X does not have valid feature names, but RandomForestClassifier was fitted with feature names\n",
      "  warnings.warn(\n"
     ]
    },
    {
     "name": "stdout",
     "output_type": "stream",
     "text": [
      "[[ 2.          2.          2.         96.54824829 80.18341064 81.42211914\n",
      "  15.27800655 16.81689644 17.58718109]]\n"
     ]
    },
    {
     "name": "stderr",
     "output_type": "stream",
     "text": [
      "/home/prachit/.local/lib/python3.8/site-packages/sklearn/base.py:465: UserWarning: X does not have valid feature names, but RandomForestClassifier was fitted with feature names\n",
      "  warnings.warn(\n",
      "/home/prachit/.local/lib/python3.8/site-packages/sklearn/base.py:465: UserWarning: X does not have valid feature names, but RandomForestClassifier was fitted with feature names\n",
      "  warnings.warn(\n"
     ]
    },
    {
     "name": "stdout",
     "output_type": "stream",
     "text": [
      "[[  2.           0.           2.          97.03369141   0.\n",
      "  111.6121521   16.8799305    0.          14.83722496]]\n"
     ]
    },
    {
     "name": "stderr",
     "output_type": "stream",
     "text": [
      "/home/prachit/.local/lib/python3.8/site-packages/sklearn/base.py:465: UserWarning: X does not have valid feature names, but RandomForestClassifier was fitted with feature names\n",
      "  warnings.warn(\n",
      "/home/prachit/.local/lib/python3.8/site-packages/sklearn/base.py:465: UserWarning: X does not have valid feature names, but RandomForestClassifier was fitted with feature names\n",
      "  warnings.warn(\n"
     ]
    },
    {
     "name": "stdout",
     "output_type": "stream",
     "text": [
      "[[  2.           2.           2.         126.29147339 113.92904663\n",
      "  117.05105591  14.52428532  16.90729141  17.98596191]]\n"
     ]
    },
    {
     "name": "stderr",
     "output_type": "stream",
     "text": [
      "/home/prachit/.local/lib/python3.8/site-packages/sklearn/base.py:465: UserWarning: X does not have valid feature names, but RandomForestClassifier was fitted with feature names\n",
      "  warnings.warn(\n",
      "/home/prachit/.local/lib/python3.8/site-packages/sklearn/base.py:465: UserWarning: X does not have valid feature names, but RandomForestClassifier was fitted with feature names\n",
      "  warnings.warn(\n"
     ]
    },
    {
     "name": "stdout",
     "output_type": "stream",
     "text": [
      "[[  3.           0.           2.         130.83789062   0.\n",
      "  140.72674561  16.90581131   0.          14.36023235]]\n"
     ]
    },
    {
     "name": "stderr",
     "output_type": "stream",
     "text": [
      "/home/prachit/.local/lib/python3.8/site-packages/sklearn/base.py:465: UserWarning: X does not have valid feature names, but RandomForestClassifier was fitted with feature names\n",
      "  warnings.warn(\n",
      "/home/prachit/.local/lib/python3.8/site-packages/sklearn/base.py:465: UserWarning: X does not have valid feature names, but RandomForestClassifier was fitted with feature names\n",
      "  warnings.warn(\n"
     ]
    },
    {
     "name": "stdout",
     "output_type": "stream",
     "text": [
      "[[  4.           0.           2.         147.73300171   0.\n",
      "  155.06607056  16.87843132   0.          14.33906555]]\n"
     ]
    },
    {
     "name": "stderr",
     "output_type": "stream",
     "text": [
      "/home/prachit/.local/lib/python3.8/site-packages/sklearn/base.py:465: UserWarning: X does not have valid feature names, but RandomForestClassifier was fitted with feature names\n",
      "  warnings.warn(\n",
      "/home/prachit/.local/lib/python3.8/site-packages/sklearn/base.py:465: UserWarning: X does not have valid feature names, but RandomForestClassifier was fitted with feature names\n",
      "  warnings.warn(\n"
     ]
    },
    {
     "name": "stdout",
     "output_type": "stream",
     "text": [
      "[[  6.           0.           1.         164.58935547   0.\n",
      "  169.44210815  16.82702637   0.          14.43663406]]\n"
     ]
    },
    {
     "name": "stderr",
     "output_type": "stream",
     "text": [
      "/home/prachit/.local/lib/python3.8/site-packages/sklearn/base.py:465: UserWarning: X does not have valid feature names, but RandomForestClassifier was fitted with feature names\n",
      "  warnings.warn(\n",
      "/home/prachit/.local/lib/python3.8/site-packages/sklearn/base.py:465: UserWarning: X does not have valid feature names, but RandomForestClassifier was fitted with feature names\n",
      "  warnings.warn(\n"
     ]
    },
    {
     "name": "stdout",
     "output_type": "stream",
     "text": [
      "[[  6.           0.           1.         181.3838501    0.\n",
      "  183.9586792   16.75360107   0.          14.62010574]]\n"
     ]
    },
    {
     "name": "stderr",
     "output_type": "stream",
     "text": [
      "/home/prachit/.local/lib/python3.8/site-packages/sklearn/base.py:465: UserWarning: X does not have valid feature names, but RandomForestClassifier was fitted with feature names\n",
      "  warnings.warn(\n",
      "/home/prachit/.local/lib/python3.8/site-packages/sklearn/base.py:465: UserWarning: X does not have valid feature names, but RandomForestClassifier was fitted with feature names\n",
      "  warnings.warn(\n"
     ]
    },
    {
     "name": "stdout",
     "output_type": "stream",
     "text": [
      "[[  7.           0.           1.         198.09567261   0.\n",
      "  198.6857605   16.66099358   0.          14.85582829]]\n"
     ]
    },
    {
     "name": "stderr",
     "output_type": "stream",
     "text": [
      "/home/prachit/.local/lib/python3.8/site-packages/sklearn/base.py:465: UserWarning: X does not have valid feature names, but RandomForestClassifier was fitted with feature names\n",
      "  warnings.warn(\n",
      "/home/prachit/.local/lib/python3.8/site-packages/sklearn/base.py:465: UserWarning: X does not have valid feature names, but RandomForestClassifier was fitted with feature names\n",
      "  warnings.warn(\n"
     ]
    },
    {
     "name": "stdout",
     "output_type": "stream",
     "text": [
      "[[ 9.00000000e+00  0.00000000e+00  0.00000000e+00  3.03394104e+02\n",
      "   0.00000000e+00  1.00000000e+04 -2.99214364e-09  0.00000000e+00\n",
      "   1.00000000e+04]]\n"
     ]
    },
    {
     "name": "stderr",
     "output_type": "stream",
     "text": [
      "/home/prachit/.local/lib/python3.8/site-packages/sklearn/base.py:465: UserWarning: X does not have valid feature names, but RandomForestClassifier was fitted with feature names\n",
      "  warnings.warn(\n",
      "/home/prachit/.local/lib/python3.8/site-packages/sklearn/base.py:465: UserWarning: X does not have valid feature names, but RandomForestClassifier was fitted with feature names\n",
      "  warnings.warn(\n"
     ]
    },
    {
     "name": "stdout",
     "output_type": "stream",
     "text": [
      "[[ 9.00000000e+00  0.00000000e+00  0.00000000e+00  3.03394104e+02\n",
      "   0.00000000e+00  1.00000000e+04 -5.11322151e-10  0.00000000e+00\n",
      "   1.00000000e+04]]\n"
     ]
    },
    {
     "name": "stderr",
     "output_type": "stream",
     "text": [
      "/home/prachit/.local/lib/python3.8/site-packages/sklearn/base.py:465: UserWarning: X does not have valid feature names, but RandomForestClassifier was fitted with feature names\n",
      "  warnings.warn(\n",
      "/home/prachit/.local/lib/python3.8/site-packages/sklearn/base.py:465: UserWarning: X does not have valid feature names, but RandomForestClassifier was fitted with feature names\n",
      "  warnings.warn(\n"
     ]
    },
    {
     "name": "stdout",
     "output_type": "stream",
     "text": [
      "[[ 9.00000000e+00  0.00000000e+00  0.00000000e+00  3.03394104e+02\n",
      "   0.00000000e+00  1.00000000e+04 -8.73789374e-11  0.00000000e+00\n",
      "   1.00000000e+04]]\n"
     ]
    },
    {
     "name": "stderr",
     "output_type": "stream",
     "text": [
      "/home/prachit/.local/lib/python3.8/site-packages/sklearn/base.py:465: UserWarning: X does not have valid feature names, but RandomForestClassifier was fitted with feature names\n",
      "  warnings.warn(\n",
      "/home/prachit/.local/lib/python3.8/site-packages/sklearn/base.py:465: UserWarning: X does not have valid feature names, but RandomForestClassifier was fitted with feature names\n",
      "  warnings.warn(\n"
     ]
    },
    {
     "name": "stdout",
     "output_type": "stream",
     "text": [
      "[[ 9.00000000e+00  0.00000000e+00  0.00000000e+00  3.03394104e+02\n",
      "   0.00000000e+00  1.00000000e+04 -1.49320330e-11  0.00000000e+00\n",
      "   1.00000000e+04]]\n"
     ]
    },
    {
     "name": "stderr",
     "output_type": "stream",
     "text": [
      "/home/prachit/.local/lib/python3.8/site-packages/sklearn/base.py:465: UserWarning: X does not have valid feature names, but RandomForestClassifier was fitted with feature names\n",
      "  warnings.warn(\n",
      "/home/prachit/.local/lib/python3.8/site-packages/sklearn/base.py:465: UserWarning: X does not have valid feature names, but RandomForestClassifier was fitted with feature names\n",
      "  warnings.warn(\n"
     ]
    },
    {
     "name": "stdout",
     "output_type": "stream",
     "text": [
      "[[ 9.00000000e+00  0.00000000e+00  0.00000000e+00  3.03394104e+02\n",
      "   0.00000000e+00  1.00000000e+04 -2.55170863e-12  0.00000000e+00\n",
      "   1.00000000e+04]]\n"
     ]
    },
    {
     "name": "stderr",
     "output_type": "stream",
     "text": [
      "/home/prachit/.local/lib/python3.8/site-packages/sklearn/base.py:465: UserWarning: X does not have valid feature names, but RandomForestClassifier was fitted with feature names\n",
      "  warnings.warn(\n",
      "/home/prachit/.local/lib/python3.8/site-packages/sklearn/base.py:465: UserWarning: X does not have valid feature names, but RandomForestClassifier was fitted with feature names\n",
      "  warnings.warn(\n"
     ]
    },
    {
     "name": "stdout",
     "output_type": "stream",
     "text": [
      "[[ 9.00000000e+00  0.00000000e+00  0.00000000e+00  3.03394104e+02\n",
      "   0.00000000e+00  1.00000000e+04 -4.36057006e-13  0.00000000e+00\n",
      "   1.00000000e+04]]\n"
     ]
    },
    {
     "name": "stderr",
     "output_type": "stream",
     "text": [
      "/home/prachit/.local/lib/python3.8/site-packages/sklearn/base.py:465: UserWarning: X does not have valid feature names, but RandomForestClassifier was fitted with feature names\n",
      "  warnings.warn(\n",
      "/home/prachit/.local/lib/python3.8/site-packages/sklearn/base.py:465: UserWarning: X does not have valid feature names, but RandomForestClassifier was fitted with feature names\n",
      "  warnings.warn(\n"
     ]
    },
    {
     "name": "stdout",
     "output_type": "stream",
     "text": [
      "[[ 9.00000000e+00  0.00000000e+00  0.00000000e+00  3.03394104e+02\n",
      "   0.00000000e+00  1.00000000e+04 -7.45170120e-14  0.00000000e+00\n",
      "   1.00000000e+04]]\n"
     ]
    },
    {
     "name": "stderr",
     "output_type": "stream",
     "text": [
      "/home/prachit/.local/lib/python3.8/site-packages/sklearn/base.py:465: UserWarning: X does not have valid feature names, but RandomForestClassifier was fitted with feature names\n",
      "  warnings.warn(\n",
      "/home/prachit/.local/lib/python3.8/site-packages/sklearn/base.py:465: UserWarning: X does not have valid feature names, but RandomForestClassifier was fitted with feature names\n",
      "  warnings.warn(\n"
     ]
    },
    {
     "name": "stdout",
     "output_type": "stream",
     "text": [
      "[[ 9.00000000e+00  0.00000000e+00  0.00000000e+00  3.03394104e+02\n",
      "   0.00000000e+00  1.00000000e+04 -1.27340799e-14  0.00000000e+00\n",
      "   1.00000000e+04]]\n"
     ]
    },
    {
     "name": "stderr",
     "output_type": "stream",
     "text": [
      "/home/prachit/.local/lib/python3.8/site-packages/sklearn/base.py:465: UserWarning: X does not have valid feature names, but RandomForestClassifier was fitted with feature names\n",
      "  warnings.warn(\n",
      "/home/prachit/.local/lib/python3.8/site-packages/sklearn/base.py:465: UserWarning: X does not have valid feature names, but RandomForestClassifier was fitted with feature names\n",
      "  warnings.warn(\n"
     ]
    },
    {
     "name": "stdout",
     "output_type": "stream",
     "text": [
      "[[ 9.00000000e+00  0.00000000e+00  0.00000000e+00  3.03394104e+02\n",
      "   0.00000000e+00  1.00000000e+04 -2.17610451e-15  0.00000000e+00\n",
      "   1.00000000e+04]]\n"
     ]
    },
    {
     "name": "stderr",
     "output_type": "stream",
     "text": [
      "/home/prachit/.local/lib/python3.8/site-packages/sklearn/base.py:465: UserWarning: X does not have valid feature names, but RandomForestClassifier was fitted with feature names\n",
      "  warnings.warn(\n",
      "/home/prachit/.local/lib/python3.8/site-packages/sklearn/base.py:465: UserWarning: X does not have valid feature names, but RandomForestClassifier was fitted with feature names\n",
      "  warnings.warn(\n"
     ]
    },
    {
     "name": "stdout",
     "output_type": "stream",
     "text": [
      "[[ 9.00000000e+00  0.00000000e+00  0.00000000e+00  3.03394104e+02\n",
      "   0.00000000e+00  1.00000000e+04 -3.71870651e-16  0.00000000e+00\n",
      "   1.00000000e+04]]\n"
     ]
    },
    {
     "name": "stderr",
     "output_type": "stream",
     "text": [
      "/home/prachit/.local/lib/python3.8/site-packages/sklearn/base.py:465: UserWarning: X does not have valid feature names, but RandomForestClassifier was fitted with feature names\n",
      "  warnings.warn(\n",
      "/home/prachit/.local/lib/python3.8/site-packages/sklearn/base.py:465: UserWarning: X does not have valid feature names, but RandomForestClassifier was fitted with feature names\n",
      "  warnings.warn(\n"
     ]
    },
    {
     "name": "stdout",
     "output_type": "stream",
     "text": [
      "[[ 9.00000000e+00  0.00000000e+00  0.00000000e+00  3.03394104e+02\n",
      "   0.00000000e+00  1.00000000e+04 -6.35483226e-17  0.00000000e+00\n",
      "   1.00000000e+04]]\n"
     ]
    },
    {
     "name": "stderr",
     "output_type": "stream",
     "text": [
      "/home/prachit/.local/lib/python3.8/site-packages/sklearn/base.py:465: UserWarning: X does not have valid feature names, but RandomForestClassifier was fitted with feature names\n",
      "  warnings.warn(\n",
      "/home/prachit/.local/lib/python3.8/site-packages/sklearn/base.py:465: UserWarning: X does not have valid feature names, but RandomForestClassifier was fitted with feature names\n",
      "  warnings.warn(\n"
     ]
    },
    {
     "name": "stdout",
     "output_type": "stream",
     "text": [
      "[[ 9.00000000e+00  0.00000000e+00  0.00000000e+00  3.03394104e+02\n",
      "   0.00000000e+00  1.00000000e+04 -1.08596605e-17  0.00000000e+00\n",
      "   1.00000000e+04]]\n"
     ]
    },
    {
     "name": "stderr",
     "output_type": "stream",
     "text": [
      "/home/prachit/.local/lib/python3.8/site-packages/sklearn/base.py:465: UserWarning: X does not have valid feature names, but RandomForestClassifier was fitted with feature names\n",
      "  warnings.warn(\n",
      "/home/prachit/.local/lib/python3.8/site-packages/sklearn/base.py:465: UserWarning: X does not have valid feature names, but RandomForestClassifier was fitted with feature names\n",
      "  warnings.warn(\n"
     ]
    },
    {
     "name": "stdout",
     "output_type": "stream",
     "text": [
      "[[ 9.00000000e+00  0.00000000e+00  0.00000000e+00  3.03394104e+02\n",
      "   0.00000000e+00  1.00000000e+04 -1.85578818e-18  0.00000000e+00\n",
      "   1.00000000e+04]]\n"
     ]
    },
    {
     "name": "stderr",
     "output_type": "stream",
     "text": [
      "/home/prachit/.local/lib/python3.8/site-packages/sklearn/base.py:465: UserWarning: X does not have valid feature names, but RandomForestClassifier was fitted with feature names\n",
      "  warnings.warn(\n",
      "/home/prachit/.local/lib/python3.8/site-packages/sklearn/base.py:465: UserWarning: X does not have valid feature names, but RandomForestClassifier was fitted with feature names\n",
      "  warnings.warn(\n"
     ]
    },
    {
     "name": "stdout",
     "output_type": "stream",
     "text": [
      "[[ 9.00000000e+00  0.00000000e+00  0.00000000e+00  3.03394104e+02\n",
      "   0.00000000e+00  1.00000000e+04 -3.17132361e-19  0.00000000e+00\n",
      "   1.00000000e+04]]\n"
     ]
    },
    {
     "name": "stderr",
     "output_type": "stream",
     "text": [
      "/home/prachit/.local/lib/python3.8/site-packages/sklearn/base.py:465: UserWarning: X does not have valid feature names, but RandomForestClassifier was fitted with feature names\n",
      "  warnings.warn(\n",
      "/home/prachit/.local/lib/python3.8/site-packages/sklearn/base.py:465: UserWarning: X does not have valid feature names, but RandomForestClassifier was fitted with feature names\n",
      "  warnings.warn(\n"
     ]
    },
    {
     "name": "stdout",
     "output_type": "stream",
     "text": [
      "[[ 9.00000000e+00  0.00000000e+00  0.00000000e+00  3.03394104e+02\n",
      "   0.00000000e+00  1.00000000e+04 -5.41941886e-20  0.00000000e+00\n",
      "   1.00000000e+04]]\n"
     ]
    },
    {
     "name": "stderr",
     "output_type": "stream",
     "text": [
      "/home/prachit/.local/lib/python3.8/site-packages/sklearn/base.py:465: UserWarning: X does not have valid feature names, but RandomForestClassifier was fitted with feature names\n",
      "  warnings.warn(\n",
      "/home/prachit/.local/lib/python3.8/site-packages/sklearn/base.py:465: UserWarning: X does not have valid feature names, but RandomForestClassifier was fitted with feature names\n",
      "  warnings.warn(\n"
     ]
    },
    {
     "name": "stdout",
     "output_type": "stream",
     "text": [
      "[[ 9.00000000e+00  0.00000000e+00  0.00000000e+00  3.03394104e+02\n",
      "   0.00000000e+00  1.00000000e+04 -9.26114968e-21  0.00000000e+00\n",
      "   1.00000000e+04]]\n"
     ]
    },
    {
     "name": "stderr",
     "output_type": "stream",
     "text": [
      "/home/prachit/.local/lib/python3.8/site-packages/sklearn/base.py:465: UserWarning: X does not have valid feature names, but RandomForestClassifier was fitted with feature names\n",
      "  warnings.warn(\n",
      "/home/prachit/.local/lib/python3.8/site-packages/sklearn/base.py:465: UserWarning: X does not have valid feature names, but RandomForestClassifier was fitted with feature names\n",
      "  warnings.warn(\n"
     ]
    },
    {
     "name": "stdout",
     "output_type": "stream",
     "text": [
      "[[ 9.00000000e+00  0.00000000e+00  0.00000000e+00  3.03394104e+02\n",
      "   0.00000000e+00  1.00000000e+04 -1.58262148e-21  0.00000000e+00\n",
      "   1.00000000e+04]]\n"
     ]
    },
    {
     "name": "stderr",
     "output_type": "stream",
     "text": [
      "/home/prachit/.local/lib/python3.8/site-packages/sklearn/base.py:465: UserWarning: X does not have valid feature names, but RandomForestClassifier was fitted with feature names\n",
      "  warnings.warn(\n",
      "/home/prachit/.local/lib/python3.8/site-packages/sklearn/base.py:465: UserWarning: X does not have valid feature names, but RandomForestClassifier was fitted with feature names\n",
      "  warnings.warn(\n"
     ]
    },
    {
     "name": "stdout",
     "output_type": "stream",
     "text": [
      "[[ 9.00000000e+00  0.00000000e+00  0.00000000e+00  3.03394104e+02\n",
      "   0.00000000e+00  1.00000000e+04 -2.70451381e-22  0.00000000e+00\n",
      "   1.00000000e+04]]\n"
     ]
    },
    {
     "name": "stderr",
     "output_type": "stream",
     "text": [
      "/home/prachit/.local/lib/python3.8/site-packages/sklearn/base.py:465: UserWarning: X does not have valid feature names, but RandomForestClassifier was fitted with feature names\n",
      "  warnings.warn(\n",
      "/home/prachit/.local/lib/python3.8/site-packages/sklearn/base.py:465: UserWarning: X does not have valid feature names, but RandomForestClassifier was fitted with feature names\n",
      "  warnings.warn(\n"
     ]
    },
    {
     "name": "stdout",
     "output_type": "stream",
     "text": [
      "[[ 9.00000000e+00  0.00000000e+00  0.00000000e+00  3.03394104e+02\n",
      "   0.00000000e+00  1.00000000e+04 -4.62169591e-23  0.00000000e+00\n",
      "   1.00000000e+04]]\n"
     ]
    },
    {
     "name": "stderr",
     "output_type": "stream",
     "text": [
      "/home/prachit/.local/lib/python3.8/site-packages/sklearn/base.py:465: UserWarning: X does not have valid feature names, but RandomForestClassifier was fitted with feature names\n",
      "  warnings.warn(\n",
      "/home/prachit/.local/lib/python3.8/site-packages/sklearn/base.py:465: UserWarning: X does not have valid feature names, but RandomForestClassifier was fitted with feature names\n",
      "  warnings.warn(\n"
     ]
    },
    {
     "name": "stdout",
     "output_type": "stream",
     "text": [
      "[[ 9.00000000e+00  0.00000000e+00  0.00000000e+00  3.03394104e+02\n",
      "   0.00000000e+00  1.00000000e+04 -7.89793497e-24  0.00000000e+00\n",
      "   1.00000000e+04]]\n"
     ]
    },
    {
     "name": "stderr",
     "output_type": "stream",
     "text": [
      "/home/prachit/.local/lib/python3.8/site-packages/sklearn/base.py:465: UserWarning: X does not have valid feature names, but RandomForestClassifier was fitted with feature names\n",
      "  warnings.warn(\n",
      "/home/prachit/.local/lib/python3.8/site-packages/sklearn/base.py:465: UserWarning: X does not have valid feature names, but RandomForestClassifier was fitted with feature names\n",
      "  warnings.warn(\n"
     ]
    },
    {
     "name": "stdout",
     "output_type": "stream",
     "text": [
      "[[ 9.00000000e+00  0.00000000e+00  0.00000000e+00  3.03394104e+02\n",
      "   0.00000000e+00  1.00000000e+04 -1.34966409e-24  0.00000000e+00\n",
      "   1.00000000e+04]]\n"
     ]
    },
    {
     "name": "stderr",
     "output_type": "stream",
     "text": [
      "/home/prachit/.local/lib/python3.8/site-packages/sklearn/base.py:465: UserWarning: X does not have valid feature names, but RandomForestClassifier was fitted with feature names\n",
      "  warnings.warn(\n",
      "/home/prachit/.local/lib/python3.8/site-packages/sklearn/base.py:465: UserWarning: X does not have valid feature names, but RandomForestClassifier was fitted with feature names\n",
      "  warnings.warn(\n",
      "Test episodes:   0%|          | 0/3 [00:39<?, ?it/s]"
     ]
    },
    {
     "name": "stdout",
     "output_type": "stream",
     "text": [
      "Moviepy - Building video /home/prachit/Desktop/Reward-shaping-with-LLMS/videos/test_safe_rf/rl-video-episode-0.mp4.\n",
      "Moviepy - Writing video /home/prachit/Desktop/Reward-shaping-with-LLMS/videos/test_safe_rf/rl-video-episode-0.mp4\n",
      "\n"
     ]
    },
    {
     "name": "stderr",
     "output_type": "stream",
     "text": [
      "Test episodes:  33%|███▎      | 1/3 [00:39<01:18, 39.34s/it]/home/prachit/.local/lib/python3.8/site-packages/sklearn/base.py:465: UserWarning: X does not have valid feature names, but RandomForestClassifier was fitted with feature names\n",
      "  warnings.warn(\n",
      "/home/prachit/.local/lib/python3.8/site-packages/sklearn/base.py:465: UserWarning: X does not have valid feature names, but RandomForestClassifier was fitted with feature names\n",
      "  warnings.warn(\n"
     ]
    },
    {
     "name": "stdout",
     "output_type": "stream",
     "text": [
      "Moviepy - Done !\n",
      "Moviepy - video ready /home/prachit/Desktop/Reward-shaping-with-LLMS/videos/test_safe_rf/rl-video-episode-0.mp4\n",
      "[[ 2.          2.          0.         20.63465881 40.59527588  0.\n",
      "  -3.59577751 -1.91079521  0.        ]]\n",
      "[[ 2.          2.          0.         19.03103638 40.07832336  0.\n",
      "  -0.52705193 -0.13798714  0.        ]]\n"
     ]
    },
    {
     "name": "stderr",
     "output_type": "stream",
     "text": [
      "/home/prachit/.local/lib/python3.8/site-packages/sklearn/base.py:465: UserWarning: X does not have valid feature names, but RandomForestClassifier was fitted with feature names\n",
      "  warnings.warn(\n",
      "/home/prachit/.local/lib/python3.8/site-packages/sklearn/base.py:465: UserWarning: X does not have valid feature names, but RandomForestClassifier was fitted with feature names\n",
      "  warnings.warn(\n"
     ]
    },
    {
     "name": "stdout",
     "output_type": "stream",
     "text": [
      "[[ 2.          2.          0.         20.49543762 41.24807739  0.\n",
      "   2.53744316  1.51733208  0.        ]]\n"
     ]
    },
    {
     "name": "stderr",
     "output_type": "stream",
     "text": [
      "/home/prachit/.local/lib/python3.8/site-packages/sklearn/base.py:465: UserWarning: X does not have valid feature names, but RandomForestClassifier was fitted with feature names\n",
      "  warnings.warn(\n",
      "/home/prachit/.local/lib/python3.8/site-packages/sklearn/base.py:465: UserWarning: X does not have valid feature names, but RandomForestClassifier was fitted with feature names\n",
      "  warnings.warn(\n"
     ]
    },
    {
     "name": "stdout",
     "output_type": "stream",
     "text": [
      "[[ 2.          2.          0.         24.98031616 44.3182373   0.\n",
      "   5.48918819  3.77041149  0.        ]]\n"
     ]
    },
    {
     "name": "stderr",
     "output_type": "stream",
     "text": [
      "/home/prachit/.local/lib/python3.8/site-packages/sklearn/base.py:465: UserWarning: X does not have valid feature names, but RandomForestClassifier was fitted with feature names\n",
      "  warnings.warn(\n",
      "/home/prachit/.local/lib/python3.8/site-packages/sklearn/base.py:465: UserWarning: X does not have valid feature names, but RandomForestClassifier was fitted with feature names\n",
      "  warnings.warn(\n"
     ]
    },
    {
     "name": "stdout",
     "output_type": "stream",
     "text": [
      "[[ 2.          2.          0.         30.34544373 47.92182922  0.\n",
      "   5.00306511  3.29894733  0.        ]]\n"
     ]
    },
    {
     "name": "stderr",
     "output_type": "stream",
     "text": [
      "/home/prachit/.local/lib/python3.8/site-packages/sklearn/base.py:465: UserWarning: X does not have valid feature names, but RandomForestClassifier was fitted with feature names\n",
      "  warnings.warn(\n",
      "/home/prachit/.local/lib/python3.8/site-packages/sklearn/base.py:465: UserWarning: X does not have valid feature names, but RandomForestClassifier was fitted with feature names\n",
      "  warnings.warn(\n"
     ]
    },
    {
     "name": "stdout",
     "output_type": "stream",
     "text": [
      "[[ 2.          2.          0.         34.85119629 50.92706299  0.\n",
      "   3.90205383  2.70245552  0.        ]]\n"
     ]
    },
    {
     "name": "stderr",
     "output_type": "stream",
     "text": [
      "/home/prachit/.local/lib/python3.8/site-packages/sklearn/base.py:465: UserWarning: X does not have valid feature names, but RandomForestClassifier was fitted with feature names\n",
      "  warnings.warn(\n",
      "/home/prachit/.local/lib/python3.8/site-packages/sklearn/base.py:465: UserWarning: X does not have valid feature names, but RandomForestClassifier was fitted with feature names\n",
      "  warnings.warn(\n"
     ]
    },
    {
     "name": "stdout",
     "output_type": "stream",
     "text": [
      "[[ 2.          2.          0.         38.21255493 53.44033813  0.\n",
      "   2.75722694  2.34221649  0.        ]]\n"
     ]
    },
    {
     "name": "stderr",
     "output_type": "stream",
     "text": [
      "/home/prachit/.local/lib/python3.8/site-packages/sklearn/base.py:465: UserWarning: X does not have valid feature names, but RandomForestClassifier was fitted with feature names\n",
      "  warnings.warn(\n",
      "/home/prachit/.local/lib/python3.8/site-packages/sklearn/base.py:465: UserWarning: X does not have valid feature names, but RandomForestClassifier was fitted with feature names\n",
      "  warnings.warn(\n"
     ]
    },
    {
     "name": "stdout",
     "output_type": "stream",
     "text": [
      "[[ 3.          2.          0.         40.48901367 55.70526123  0.\n",
      "   1.76639748  2.21274948  0.        ]]\n"
     ]
    },
    {
     "name": "stderr",
     "output_type": "stream",
     "text": [
      "/home/prachit/.local/lib/python3.8/site-packages/sklearn/base.py:465: UserWarning: X does not have valid feature names, but RandomForestClassifier was fitted with feature names\n",
      "  warnings.warn(\n",
      "/home/prachit/.local/lib/python3.8/site-packages/sklearn/base.py:465: UserWarning: X does not have valid feature names, but RandomForestClassifier was fitted with feature names\n",
      "  warnings.warn(\n"
     ]
    },
    {
     "name": "stdout",
     "output_type": "stream",
     "text": [
      "[[ 3.          2.          0.         41.8927002  57.92642212  0.\n",
      "   1.04351902  2.25619316  0.        ]]\n"
     ]
    },
    {
     "name": "stderr",
     "output_type": "stream",
     "text": [
      "/home/prachit/.local/lib/python3.8/site-packages/sklearn/base.py:465: UserWarning: X does not have valid feature names, but RandomForestClassifier was fitted with feature names\n",
      "  warnings.warn(\n",
      "/home/prachit/.local/lib/python3.8/site-packages/sklearn/base.py:465: UserWarning: X does not have valid feature names, but RandomForestClassifier was fitted with feature names\n",
      "  warnings.warn(\n"
     ]
    },
    {
     "name": "stdout",
     "output_type": "stream",
     "text": [
      "[[ 3.          2.          0.         42.72058105 60.24957275  0.\n",
      "   0.63848305  2.41587543  0.        ]]\n"
     ]
    },
    {
     "name": "stderr",
     "output_type": "stream",
     "text": [
      "/home/prachit/.local/lib/python3.8/site-packages/sklearn/base.py:465: UserWarning: X does not have valid feature names, but RandomForestClassifier was fitted with feature names\n",
      "  warnings.warn(\n",
      "/home/prachit/.local/lib/python3.8/site-packages/sklearn/base.py:465: UserWarning: X does not have valid feature names, but RandomForestClassifier was fitted with feature names\n",
      "  warnings.warn(\n"
     ]
    },
    {
     "name": "stdout",
     "output_type": "stream",
     "text": [
      "[[ 3.          2.          0.         43.28768921 62.76837158  0.\n",
      "   0.53419971  2.64523029  0.        ]]\n"
     ]
    },
    {
     "name": "stderr",
     "output_type": "stream",
     "text": [
      "/home/prachit/.local/lib/python3.8/site-packages/sklearn/base.py:465: UserWarning: X does not have valid feature names, but RandomForestClassifier was fitted with feature names\n",
      "  warnings.warn(\n",
      "/home/prachit/.local/lib/python3.8/site-packages/sklearn/base.py:465: UserWarning: X does not have valid feature names, but RandomForestClassifier was fitted with feature names\n",
      "  warnings.warn(\n"
     ]
    },
    {
     "name": "stdout",
     "output_type": "stream",
     "text": [
      "[[ 3.          2.          0.         43.86630249 65.53482056  0.\n",
      "   0.6629982   2.90839863  0.        ]]\n"
     ]
    },
    {
     "name": "stderr",
     "output_type": "stream",
     "text": [
      "/home/prachit/.local/lib/python3.8/site-packages/sklearn/base.py:465: UserWarning: X does not have valid feature names, but RandomForestClassifier was fitted with feature names\n",
      "  warnings.warn(\n",
      "/home/prachit/.local/lib/python3.8/site-packages/sklearn/base.py:465: UserWarning: X does not have valid feature names, but RandomForestClassifier was fitted with feature names\n",
      "  warnings.warn(\n"
     ]
    },
    {
     "name": "stdout",
     "output_type": "stream",
     "text": [
      "[[ 3.          2.          0.         44.64776611 68.5697937   0.\n",
      "   0.93368816  3.17905712  0.        ]]\n"
     ]
    },
    {
     "name": "stderr",
     "output_type": "stream",
     "text": [
      "/home/prachit/.local/lib/python3.8/site-packages/sklearn/base.py:465: UserWarning: X does not have valid feature names, but RandomForestClassifier was fitted with feature names\n",
      "  warnings.warn(\n",
      "/home/prachit/.local/lib/python3.8/site-packages/sklearn/base.py:465: UserWarning: X does not have valid feature names, but RandomForestClassifier was fitted with feature names\n",
      "  warnings.warn(\n"
     ]
    },
    {
     "name": "stdout",
     "output_type": "stream",
     "text": [
      "[[ 3.          2.          0.         45.73062134 71.87155151  0.\n",
      "   1.25477791  3.43885803  0.        ]]\n"
     ]
    },
    {
     "name": "stderr",
     "output_type": "stream",
     "text": [
      "/home/prachit/.local/lib/python3.8/site-packages/sklearn/base.py:465: UserWarning: X does not have valid feature names, but RandomForestClassifier was fitted with feature names\n",
      "  warnings.warn(\n",
      "/home/prachit/.local/lib/python3.8/site-packages/sklearn/base.py:465: UserWarning: X does not have valid feature names, but RandomForestClassifier was fitted with feature names\n",
      "  warnings.warn(\n"
     ]
    },
    {
     "name": "stdout",
     "output_type": "stream",
     "text": [
      "[[ 3.          2.          0.         47.12744141 75.42327881  0.\n",
      "   1.54846382  3.67587471  0.        ]]\n"
     ]
    },
    {
     "name": "stderr",
     "output_type": "stream",
     "text": [
      "/home/prachit/.local/lib/python3.8/site-packages/sklearn/base.py:465: UserWarning: X does not have valid feature names, but RandomForestClassifier was fitted with feature names\n",
      "  warnings.warn(\n",
      "/home/prachit/.local/lib/python3.8/site-packages/sklearn/base.py:465: UserWarning: X does not have valid feature names, but RandomForestClassifier was fitted with feature names\n",
      "  warnings.warn(\n"
     ]
    },
    {
     "name": "stdout",
     "output_type": "stream",
     "text": [
      "[[ 3.          2.          0.         48.78210449 79.19851685  0.\n",
      "   1.75694275  3.88315487  0.        ]]\n"
     ]
    },
    {
     "name": "stderr",
     "output_type": "stream",
     "text": [
      "/home/prachit/.local/lib/python3.8/site-packages/sklearn/base.py:465: UserWarning: X does not have valid feature names, but RandomForestClassifier was fitted with feature names\n",
      "  warnings.warn(\n",
      "/home/prachit/.local/lib/python3.8/site-packages/sklearn/base.py:465: UserWarning: X does not have valid feature names, but RandomForestClassifier was fitted with feature names\n",
      "  warnings.warn(\n"
     ]
    },
    {
     "name": "stdout",
     "output_type": "stream",
     "text": [
      "[[ 3.          2.          0.         50.59075928 83.16583252  0.\n",
      "   1.84422016  4.05747223  0.        ]]\n"
     ]
    },
    {
     "name": "stderr",
     "output_type": "stream",
     "text": [
      "/home/prachit/.local/lib/python3.8/site-packages/sklearn/base.py:465: UserWarning: X does not have valid feature names, but RandomForestClassifier was fitted with feature names\n",
      "  warnings.warn(\n",
      "/home/prachit/.local/lib/python3.8/site-packages/sklearn/base.py:465: UserWarning: X does not have valid feature names, but RandomForestClassifier was fitted with feature names\n",
      "  warnings.warn(\n"
     ]
    },
    {
     "name": "stdout",
     "output_type": "stream",
     "text": [
      "[[ 2.          3.          0.         86.10372925 51.95095825  0.\n",
      "   1.30704689  1.58474541  0.        ]]\n"
     ]
    },
    {
     "name": "stderr",
     "output_type": "stream",
     "text": [
      "/home/prachit/.local/lib/python3.8/site-packages/sklearn/base.py:465: UserWarning: X does not have valid feature names, but RandomForestClassifier was fitted with feature names\n",
      "  warnings.warn(\n",
      "/home/prachit/.local/lib/python3.8/site-packages/sklearn/base.py:465: UserWarning: X does not have valid feature names, but RandomForestClassifier was fitted with feature names\n",
      "  warnings.warn(\n"
     ]
    },
    {
     "name": "stdout",
     "output_type": "stream",
     "text": [
      "[[ 2.          3.          0.         87.19116211 54.13360596  0.\n",
      "   0.83464718  2.58447075  0.        ]]\n"
     ]
    },
    {
     "name": "stderr",
     "output_type": "stream",
     "text": [
      "/home/prachit/.local/lib/python3.8/site-packages/sklearn/base.py:465: UserWarning: X does not have valid feature names, but RandomForestClassifier was fitted with feature names\n",
      "  warnings.warn(\n",
      "/home/prachit/.local/lib/python3.8/site-packages/sklearn/base.py:465: UserWarning: X does not have valid feature names, but RandomForestClassifier was fitted with feature names\n",
      "  warnings.warn(\n"
     ]
    },
    {
     "name": "stdout",
     "output_type": "stream",
     "text": [
      "[[ 3.          2.          0.         87.81185913 95.88961792  0.\n",
      "   0.38645744  4.38625717  0.        ]]\n"
     ]
    },
    {
     "name": "stderr",
     "output_type": "stream",
     "text": [
      "/home/prachit/.local/lib/python3.8/site-packages/sklearn/base.py:465: UserWarning: X does not have valid feature names, but RandomForestClassifier was fitted with feature names\n",
      "  warnings.warn(\n",
      "/home/prachit/.local/lib/python3.8/site-packages/sklearn/base.py:465: UserWarning: X does not have valid feature names, but RandomForestClassifier was fitted with feature names\n",
      "  warnings.warn(\n"
     ]
    },
    {
     "name": "stdout",
     "output_type": "stream",
     "text": [
      "[[3.00000000e+00 2.00000000e+00 0.00000000e+00 8.80199890e+01\n",
      "  1.00302826e+02 0.00000000e+00 2.41422653e-02 4.43965340e+00\n",
      "  0.00000000e+00]]\n"
     ]
    },
    {
     "name": "stderr",
     "output_type": "stream",
     "text": [
      "/home/prachit/.local/lib/python3.8/site-packages/sklearn/base.py:465: UserWarning: X does not have valid feature names, but RandomForestClassifier was fitted with feature names\n",
      "  warnings.warn(\n",
      "/home/prachit/.local/lib/python3.8/site-packages/sklearn/base.py:465: UserWarning: X does not have valid feature names, but RandomForestClassifier was fitted with feature names\n",
      "  warnings.warn(\n"
     ]
    },
    {
     "name": "stdout",
     "output_type": "stream",
     "text": [
      "[[  3.           2.           0.          87.92337036 104.75888062\n",
      "    0.          -0.2091589    4.47134781   0.        ]]\n"
     ]
    },
    {
     "name": "stderr",
     "output_type": "stream",
     "text": [
      "/home/prachit/.local/lib/python3.8/site-packages/sklearn/base.py:465: UserWarning: X does not have valid feature names, but RandomForestClassifier was fitted with feature names\n",
      "  warnings.warn(\n",
      "/home/prachit/.local/lib/python3.8/site-packages/sklearn/base.py:465: UserWarning: X does not have valid feature names, but RandomForestClassifier was fitted with feature names\n",
      "  warnings.warn(\n"
     ]
    },
    {
     "name": "stdout",
     "output_type": "stream",
     "text": [
      "[[  3.           2.           0.          87.66220093 109.2381897\n",
      "    0.          -0.29373646   4.48584747   0.        ]]\n"
     ]
    },
    {
     "name": "stderr",
     "output_type": "stream",
     "text": [
      "/home/prachit/.local/lib/python3.8/site-packages/sklearn/base.py:465: UserWarning: X does not have valid feature names, but RandomForestClassifier was fitted with feature names\n",
      "  warnings.warn(\n",
      "/home/prachit/.local/lib/python3.8/site-packages/sklearn/base.py:465: UserWarning: X does not have valid feature names, but RandomForestClassifier was fitted with feature names\n",
      "  warnings.warn(\n"
     ]
    },
    {
     "name": "stdout",
     "output_type": "stream",
     "text": [
      "[[  2.           3.           0.         116.15231323  86.82095337\n",
      "    0.           0.284235    -0.84401989   0.        ]]\n"
     ]
    },
    {
     "name": "stderr",
     "output_type": "stream",
     "text": [
      "/home/prachit/.local/lib/python3.8/site-packages/sklearn/base.py:465: UserWarning: X does not have valid feature names, but RandomForestClassifier was fitted with feature names\n",
      "  warnings.warn(\n",
      "/home/prachit/.local/lib/python3.8/site-packages/sklearn/base.py:465: UserWarning: X does not have valid feature names, but RandomForestClassifier was fitted with feature names\n",
      "  warnings.warn(\n"
     ]
    },
    {
     "name": "stdout",
     "output_type": "stream",
     "text": [
      "[[  2.           3.           0.         116.62911987  86.92276001\n",
      "    0.           0.70200729   0.72705173   0.        ]]\n"
     ]
    },
    {
     "name": "stderr",
     "output_type": "stream",
     "text": [
      "/home/prachit/.local/lib/python3.8/site-packages/sklearn/base.py:465: UserWarning: X does not have valid feature names, but RandomForestClassifier was fitted with feature names\n",
      "  warnings.warn(\n",
      "/home/prachit/.local/lib/python3.8/site-packages/sklearn/base.py:465: UserWarning: X does not have valid feature names, but RandomForestClassifier was fitted with feature names\n",
      "  warnings.warn(\n"
     ]
    },
    {
     "name": "stdout",
     "output_type": "stream",
     "text": [
      "[[  2.           3.           0.         117.53237915  88.13693237\n",
      "    0.           1.1330595    1.72476387   0.        ]]\n"
     ]
    },
    {
     "name": "stderr",
     "output_type": "stream",
     "text": [
      "/home/prachit/.local/lib/python3.8/site-packages/sklearn/base.py:465: UserWarning: X does not have valid feature names, but RandomForestClassifier was fitted with feature names\n",
      "  warnings.warn(\n",
      "/home/prachit/.local/lib/python3.8/site-packages/sklearn/base.py:465: UserWarning: X does not have valid feature names, but RandomForestClassifier was fitted with feature names\n",
      "  warnings.warn(\n"
     ]
    },
    {
     "name": "stdout",
     "output_type": "stream",
     "text": [
      "[[  2.           3.           0.         118.86273193  90.25177002\n",
      "    0.           1.55199051   2.52596474   0.        ]]\n"
     ]
    },
    {
     "name": "stderr",
     "output_type": "stream",
     "text": [
      "/home/prachit/.local/lib/python3.8/site-packages/sklearn/base.py:465: UserWarning: X does not have valid feature names, but RandomForestClassifier was fitted with feature names\n",
      "  warnings.warn(\n",
      "/home/prachit/.local/lib/python3.8/site-packages/sklearn/base.py:465: UserWarning: X does not have valid feature names, but RandomForestClassifier was fitted with feature names\n",
      "  warnings.warn(\n"
     ]
    },
    {
     "name": "stdout",
     "output_type": "stream",
     "text": [
      "[[  2.           3.           0.         120.59954834  93.078125\n",
      "    0.           1.94172668   3.13729286   0.        ]]\n"
     ]
    },
    {
     "name": "stderr",
     "output_type": "stream",
     "text": [
      "/home/prachit/.local/lib/python3.8/site-packages/sklearn/base.py:465: UserWarning: X does not have valid feature names, but RandomForestClassifier was fitted with feature names\n",
      "  warnings.warn(\n",
      "/home/prachit/.local/lib/python3.8/site-packages/sklearn/base.py:465: UserWarning: X does not have valid feature names, but RandomForestClassifier was fitted with feature names\n",
      "  warnings.warn(\n"
     ]
    },
    {
     "name": "stdout",
     "output_type": "stream",
     "text": [
      "[[  2.           3.           0.         122.70849609  96.43505859\n",
      "    0.           2.29275513   3.58103657   0.        ]]\n"
     ]
    },
    {
     "name": "stderr",
     "output_type": "stream",
     "text": [
      "/home/prachit/.local/lib/python3.8/site-packages/sklearn/base.py:465: UserWarning: X does not have valid feature names, but RandomForestClassifier was fitted with feature names\n",
      "  warnings.warn(\n",
      "/home/prachit/.local/lib/python3.8/site-packages/sklearn/base.py:465: UserWarning: X does not have valid feature names, but RandomForestClassifier was fitted with feature names\n",
      "  warnings.warn(\n"
     ]
    },
    {
     "name": "stdout",
     "output_type": "stream",
     "text": [
      "[[  2.           3.           0.         125.14892578 100.1706543\n",
      "    0.           2.60164928   3.89194107   0.        ]]\n"
     ]
    },
    {
     "name": "stderr",
     "output_type": "stream",
     "text": [
      "/home/prachit/.local/lib/python3.8/site-packages/sklearn/base.py:465: UserWarning: X does not have valid feature names, but RandomForestClassifier was fitted with feature names\n",
      "  warnings.warn(\n",
      "/home/prachit/.local/lib/python3.8/site-packages/sklearn/base.py:465: UserWarning: X does not have valid feature names, but RandomForestClassifier was fitted with feature names\n",
      "  warnings.warn(\n"
     ]
    },
    {
     "name": "stdout",
     "output_type": "stream",
     "text": [
      "[[  2.           3.           0.         127.87878418 104.16894531\n",
      "    0.           2.86932278   4.10535622   0.        ]]\n"
     ]
    },
    {
     "name": "stderr",
     "output_type": "stream",
     "text": [
      "/home/prachit/.local/lib/python3.8/site-packages/sklearn/base.py:465: UserWarning: X does not have valid feature names, but RandomForestClassifier was fitted with feature names\n",
      "  warnings.warn(\n",
      "/home/prachit/.local/lib/python3.8/site-packages/sklearn/base.py:465: UserWarning: X does not have valid feature names, but RandomForestClassifier was fitted with feature names\n",
      "  warnings.warn(\n"
     ]
    },
    {
     "name": "stdout",
     "output_type": "stream",
     "text": [
      "[[  2.           3.           0.         130.85839844 108.34698486\n",
      "    0.           3.09938717   4.25144386   0.        ]]\n"
     ]
    },
    {
     "name": "stderr",
     "output_type": "stream",
     "text": [
      "/home/prachit/.local/lib/python3.8/site-packages/sklearn/base.py:465: UserWarning: X does not have valid feature names, but RandomForestClassifier was fitted with feature names\n",
      "  warnings.warn(\n",
      "/home/prachit/.local/lib/python3.8/site-packages/sklearn/base.py:465: UserWarning: X does not have valid feature names, but RandomForestClassifier was fitted with feature names\n",
      "  warnings.warn(\n"
     ]
    },
    {
     "name": "stdout",
     "output_type": "stream",
     "text": [
      "[[  2.           3.           0.         134.0524292  112.64892578\n",
      "    0.           3.29680347   4.35352898   0.        ]]\n"
     ]
    },
    {
     "name": "stderr",
     "output_type": "stream",
     "text": [
      "/home/prachit/.local/lib/python3.8/site-packages/sklearn/base.py:465: UserWarning: X does not have valid feature names, but RandomForestClassifier was fitted with feature names\n",
      "  warnings.warn(\n",
      "/home/prachit/.local/lib/python3.8/site-packages/sklearn/base.py:465: UserWarning: X does not have valid feature names, but RandomForestClassifier was fitted with feature names\n",
      "  warnings.warn(\n"
     ]
    },
    {
     "name": "stdout",
     "output_type": "stream",
     "text": [
      "[[  2.           3.           0.         137.43066406 117.03912354\n",
      "    0.           3.46691608   4.4285202    0.        ]]\n"
     ]
    },
    {
     "name": "stderr",
     "output_type": "stream",
     "text": [
      "/home/prachit/.local/lib/python3.8/site-packages/sklearn/base.py:465: UserWarning: X does not have valid feature names, but RandomForestClassifier was fitted with feature names\n",
      "  warnings.warn(\n",
      "/home/prachit/.local/lib/python3.8/site-packages/sklearn/base.py:465: UserWarning: X does not have valid feature names, but RandomForestClassifier was fitted with feature names\n",
      "  warnings.warn(\n"
     ]
    },
    {
     "name": "stdout",
     "output_type": "stream",
     "text": [
      "[[  2.           2.           0.         140.96826172 121.49639893\n",
      "    0.           3.6148386    4.48810959   0.        ]]\n"
     ]
    },
    {
     "name": "stderr",
     "output_type": "stream",
     "text": [
      "/home/prachit/.local/lib/python3.8/site-packages/sklearn/base.py:465: UserWarning: X does not have valid feature names, but RandomForestClassifier was fitted with feature names\n",
      "  warnings.warn(\n",
      "/home/prachit/.local/lib/python3.8/site-packages/sklearn/base.py:465: UserWarning: X does not have valid feature names, but RandomForestClassifier was fitted with feature names\n",
      "  warnings.warn(\n"
     ]
    },
    {
     "name": "stdout",
     "output_type": "stream",
     "text": [
      "[[  2.           2.           0.         144.6451416  126.00909424\n",
      "    0.           3.74511242   4.54004669   0.        ]]\n"
     ]
    },
    {
     "name": "stderr",
     "output_type": "stream",
     "text": [
      "/home/prachit/.local/lib/python3.8/site-packages/sklearn/base.py:465: UserWarning: X does not have valid feature names, but RandomForestClassifier was fitted with feature names\n",
      "  warnings.warn(\n",
      "/home/prachit/.local/lib/python3.8/site-packages/sklearn/base.py:465: UserWarning: X does not have valid feature names, but RandomForestClassifier was fitted with feature names\n",
      "  warnings.warn(\n"
     ]
    },
    {
     "name": "stdout",
     "output_type": "stream",
     "text": [
      "[[  2.           2.           0.         148.44561768 130.57220459\n",
      "    0.           3.86157513   4.58923531   0.        ]]\n"
     ]
    },
    {
     "name": "stderr",
     "output_type": "stream",
     "text": [
      "/home/prachit/.local/lib/python3.8/site-packages/sklearn/base.py:465: UserWarning: X does not have valid feature names, but RandomForestClassifier was fitted with feature names\n",
      "  warnings.warn(\n",
      "/home/prachit/.local/lib/python3.8/site-packages/sklearn/base.py:465: UserWarning: X does not have valid feature names, but RandomForestClassifier was fitted with feature names\n",
      "  warnings.warn(\n"
     ]
    },
    {
     "name": "stdout",
     "output_type": "stream",
     "text": [
      "[[  2.           2.           0.         152.35736084 135.18438721\n",
      "    0.           3.96734524   4.63858604   0.        ]]\n"
     ]
    },
    {
     "name": "stderr",
     "output_type": "stream",
     "text": [
      "/home/prachit/.local/lib/python3.8/site-packages/sklearn/base.py:465: UserWarning: X does not have valid feature names, but RandomForestClassifier was fitted with feature names\n",
      "  warnings.warn(\n",
      "/home/prachit/.local/lib/python3.8/site-packages/sklearn/base.py:465: UserWarning: X does not have valid feature names, but RandomForestClassifier was fitted with feature names\n",
      "  warnings.warn(\n"
     ]
    },
    {
     "name": "stdout",
     "output_type": "stream",
     "text": [
      "[[  2.           2.           0.         156.37078857 139.84661865\n",
      "    0.           4.06488228   4.68966484   0.        ]]\n"
     ]
    },
    {
     "name": "stderr",
     "output_type": "stream",
     "text": [
      "/home/prachit/.local/lib/python3.8/site-packages/sklearn/base.py:465: UserWarning: X does not have valid feature names, but RandomForestClassifier was fitted with feature names\n",
      "  warnings.warn(\n",
      "/home/prachit/.local/lib/python3.8/site-packages/sklearn/base.py:465: UserWarning: X does not have valid feature names, but RandomForestClassifier was fitted with feature names\n",
      "  warnings.warn(\n"
     ]
    },
    {
     "name": "stdout",
     "output_type": "stream",
     "text": [
      "[[  2.           2.           0.         160.47869873 144.56103516\n",
      "    0.           4.15607452   4.7431488    0.        ]]\n"
     ]
    },
    {
     "name": "stderr",
     "output_type": "stream",
     "text": [
      "/home/prachit/.local/lib/python3.8/site-packages/sklearn/base.py:465: UserWarning: X does not have valid feature names, but RandomForestClassifier was fitted with feature names\n",
      "  warnings.warn(\n",
      "/home/prachit/.local/lib/python3.8/site-packages/sklearn/base.py:465: UserWarning: X does not have valid feature names, but RandomForestClassifier was fitted with feature names\n",
      "  warnings.warn(\n",
      "Test episodes:  33%|███▎      | 1/3 [01:19<01:18, 39.34s/it]"
     ]
    },
    {
     "name": "stdout",
     "output_type": "stream",
     "text": [
      "Moviepy - Building video /home/prachit/Desktop/Reward-shaping-with-LLMS/videos/test_safe_rf/rl-video-episode-1.mp4.\n",
      "Moviepy - Writing video /home/prachit/Desktop/Reward-shaping-with-LLMS/videos/test_safe_rf/rl-video-episode-1.mp4\n",
      "\n"
     ]
    },
    {
     "name": "stderr",
     "output_type": "stream",
     "text": [
      "Test episodes:  67%|██████▋   | 2/3 [01:19<00:39, 39.88s/it]/home/prachit/.local/lib/python3.8/site-packages/sklearn/base.py:465: UserWarning: X does not have valid feature names, but RandomForestClassifier was fitted with feature names\n",
      "  warnings.warn(\n"
     ]
    },
    {
     "name": "stdout",
     "output_type": "stream",
     "text": [
      "Moviepy - Done !\n",
      "Moviepy - video ready /home/prachit/Desktop/Reward-shaping-with-LLMS/videos/test_safe_rf/rl-video-episode-1.mp4\n",
      "[[ 0.00000000e+00  0.00000000e+00  2.00000000e+00  1.00000000e+04\n",
      "   0.00000000e+00  2.13057251e+01  1.00000000e+04  0.00000000e+00\n",
      "  -2.33347702e+00]]\n"
     ]
    },
    {
     "name": "stderr",
     "output_type": "stream",
     "text": [
      "/home/prachit/.local/lib/python3.8/site-packages/sklearn/base.py:465: UserWarning: X does not have valid feature names, but RandomForestClassifier was fitted with feature names\n",
      "  warnings.warn(\n"
     ]
    },
    {
     "name": "stdout",
     "output_type": "stream",
     "text": [
      "[[ 0.00000000e+00  0.00000000e+00  2.00000000e+00  1.00000000e+04\n",
      "   0.00000000e+00  1.68984375e+01  1.00000000e+04  0.00000000e+00\n",
      "  -6.20593643e+00]]\n"
     ]
    },
    {
     "name": "stderr",
     "output_type": "stream",
     "text": [
      "/home/prachit/.local/lib/python3.8/site-packages/sklearn/base.py:465: UserWarning: X does not have valid feature names, but RandomForestClassifier was fitted with feature names\n",
      "  warnings.warn(\n",
      "/home/prachit/.local/lib/python3.8/site-packages/sklearn/base.py:465: UserWarning: X does not have valid feature names, but RandomForestClassifier was fitted with feature names\n",
      "  warnings.warn(\n"
     ]
    },
    {
     "name": "stdout",
     "output_type": "stream",
     "text": [
      "[[ 0.00000000e+00  0.00000000e+00  2.00000000e+00  1.00000000e+04\n",
      "   0.00000000e+00  1.01526642e+01  1.00000000e+04  0.00000000e+00\n",
      "  -7.09125519e+00]]\n"
     ]
    },
    {
     "name": "stderr",
     "output_type": "stream",
     "text": [
      "/home/prachit/.local/lib/python3.8/site-packages/sklearn/base.py:465: UserWarning: X does not have valid feature names, but RandomForestClassifier was fitted with feature names\n",
      "  warnings.warn(\n",
      "/home/prachit/.local/lib/python3.8/site-packages/sklearn/base.py:465: UserWarning: X does not have valid feature names, but RandomForestClassifier was fitted with feature names\n",
      "  warnings.warn(\n"
     ]
    },
    {
     "name": "stdout",
     "output_type": "stream",
     "text": [
      "[[ 0.00000000e+00  0.00000000e+00  2.00000000e+00  1.00000000e+04\n",
      "   0.00000000e+00  3.02998352e+00  1.00000000e+04  0.00000000e+00\n",
      "  -7.07608795e+00]]\n"
     ]
    },
    {
     "name": "stderr",
     "output_type": "stream",
     "text": [
      "/home/prachit/.local/lib/python3.8/site-packages/sklearn/base.py:465: UserWarning: X does not have valid feature names, but RandomForestClassifier was fitted with feature names\n",
      "  warnings.warn(\n",
      "/home/prachit/.local/lib/python3.8/site-packages/sklearn/base.py:465: UserWarning: X does not have valid feature names, but RandomForestClassifier was fitted with feature names\n",
      "  warnings.warn(\n"
     ]
    },
    {
     "name": "stdout",
     "output_type": "stream",
     "text": [
      "[[ 0.00000000e+00  0.00000000e+00  2.00000000e+00  1.00000000e+04\n",
      "   0.00000000e+00  3.91848755e+00  1.00000000e+04  0.00000000e+00\n",
      "  -6.77668953e+00]]\n"
     ]
    },
    {
     "name": "stderr",
     "output_type": "stream",
     "text": [
      "/home/prachit/.local/lib/python3.8/site-packages/sklearn/base.py:465: UserWarning: X does not have valid feature names, but RandomForestClassifier was fitted with feature names\n",
      "  warnings.warn(\n",
      "/home/prachit/.local/lib/python3.8/site-packages/sklearn/base.py:465: UserWarning: X does not have valid feature names, but RandomForestClassifier was fitted with feature names\n",
      "  warnings.warn(\n"
     ]
    },
    {
     "name": "stdout",
     "output_type": "stream",
     "text": [
      "[[ 0.00000000e+00  0.00000000e+00  2.00000000e+00  1.00000000e+04\n",
      "   0.00000000e+00  1.05217590e+01  1.00000000e+04  0.00000000e+00\n",
      "  -6.40138817e+00]]\n"
     ]
    },
    {
     "name": "stderr",
     "output_type": "stream",
     "text": [
      "/home/prachit/.local/lib/python3.8/site-packages/sklearn/base.py:465: UserWarning: X does not have valid feature names, but RandomForestClassifier was fitted with feature names\n",
      "  warnings.warn(\n",
      "/home/prachit/.local/lib/python3.8/site-packages/sklearn/base.py:465: UserWarning: X does not have valid feature names, but RandomForestClassifier was fitted with feature names\n",
      "  warnings.warn(\n"
     ]
    },
    {
     "name": "stdout",
     "output_type": "stream",
     "text": [
      "[[ 0.00000000e+00  0.00000000e+00  2.00000000e+00  1.00000000e+04\n",
      "   0.00000000e+00  1.67490845e+01  1.00000000e+04  0.00000000e+00\n",
      "  -6.03369904e+00]]\n"
     ]
    },
    {
     "name": "stderr",
     "output_type": "stream",
     "text": [
      "/home/prachit/.local/lib/python3.8/site-packages/sklearn/base.py:465: UserWarning: X does not have valid feature names, but RandomForestClassifier was fitted with feature names\n",
      "  warnings.warn(\n",
      "/home/prachit/.local/lib/python3.8/site-packages/sklearn/base.py:465: UserWarning: X does not have valid feature names, but RandomForestClassifier was fitted with feature names\n",
      "  warnings.warn(\n"
     ]
    },
    {
     "name": "stdout",
     "output_type": "stream",
     "text": [
      "[[ 0.00000000e+00  0.00000000e+00  2.00000000e+00  1.00000000e+04\n",
      "   0.00000000e+00  2.26257935e+01  1.00000000e+04  0.00000000e+00\n",
      "  -5.70553207e+00]]\n"
     ]
    },
    {
     "name": "stderr",
     "output_type": "stream",
     "text": [
      "/home/prachit/.local/lib/python3.8/site-packages/sklearn/base.py:465: UserWarning: X does not have valid feature names, but RandomForestClassifier was fitted with feature names\n",
      "  warnings.warn(\n",
      "/home/prachit/.local/lib/python3.8/site-packages/sklearn/base.py:465: UserWarning: X does not have valid feature names, but RandomForestClassifier was fitted with feature names\n",
      "  warnings.warn(\n"
     ]
    },
    {
     "name": "stdout",
     "output_type": "stream",
     "text": [
      "[[  1.           0.           2.          44.93157959   0.\n",
      "   19.97839355 -10.1140728    0.          -3.42243958]]\n"
     ]
    },
    {
     "name": "stderr",
     "output_type": "stream",
     "text": [
      "/home/prachit/.local/lib/python3.8/site-packages/sklearn/base.py:465: UserWarning: X does not have valid feature names, but RandomForestClassifier was fitted with feature names\n",
      "  warnings.warn(\n",
      "/home/prachit/.local/lib/python3.8/site-packages/sklearn/base.py:465: UserWarning: X does not have valid feature names, but RandomForestClassifier was fitted with feature names\n",
      "  warnings.warn(\n"
     ]
    },
    {
     "name": "stdout",
     "output_type": "stream",
     "text": [
      "[[ 1.          0.          2.         34.87985229  0.         16.534729\n",
      "  -9.9933176   0.         -3.46640778]]\n"
     ]
    },
    {
     "name": "stderr",
     "output_type": "stream",
     "text": [
      "/home/prachit/.local/lib/python3.8/site-packages/sklearn/base.py:465: UserWarning: X does not have valid feature names, but RandomForestClassifier was fitted with feature names\n",
      "  warnings.warn(\n",
      "/home/prachit/.local/lib/python3.8/site-packages/sklearn/base.py:465: UserWarning: X does not have valid feature names, but RandomForestClassifier was fitted with feature names\n",
      "  warnings.warn(\n"
     ]
    },
    {
     "name": "stdout",
     "output_type": "stream",
     "text": [
      "[[ 1.          0.          2.         24.92214966  0.         13.05041504\n",
      "  -9.92177677  0.         -3.50397682]]\n"
     ]
    },
    {
     "name": "stderr",
     "output_type": "stream",
     "text": [
      "/home/prachit/.local/lib/python3.8/site-packages/sklearn/base.py:465: UserWarning: X does not have valid feature names, but RandomForestClassifier was fitted with feature names\n",
      "  warnings.warn(\n",
      "/home/prachit/.local/lib/python3.8/site-packages/sklearn/base.py:465: UserWarning: X does not have valid feature names, but RandomForestClassifier was fitted with feature names\n",
      "  warnings.warn(\n"
     ]
    },
    {
     "name": "stdout",
     "output_type": "stream",
     "text": [
      "[[ 2.          0.          2.         17.03933716  0.         11.54034424\n",
      "  -6.54202938  0.         -0.22189903]]\n"
     ]
    },
    {
     "name": "stderr",
     "output_type": "stream",
     "text": [
      "/home/prachit/.local/lib/python3.8/site-packages/sklearn/base.py:465: UserWarning: X does not have valid feature names, but RandomForestClassifier was fitted with feature names\n",
      "  warnings.warn(\n",
      "/home/prachit/.local/lib/python3.8/site-packages/sklearn/base.py:465: UserWarning: X does not have valid feature names, but RandomForestClassifier was fitted with feature names\n",
      "  warnings.warn(\n"
     ]
    },
    {
     "name": "stdout",
     "output_type": "stream",
     "text": [
      "[[ 2.          0.          2.         12.88769531  0.         13.65655518\n",
      "  -2.57454777  0.          3.62804222]]\n"
     ]
    },
    {
     "name": "stderr",
     "output_type": "stream",
     "text": [
      "/home/prachit/.local/lib/python3.8/site-packages/sklearn/base.py:465: UserWarning: X does not have valid feature names, but RandomForestClassifier was fitted with feature names\n",
      "  warnings.warn(\n",
      "/home/prachit/.local/lib/python3.8/site-packages/sklearn/base.py:465: UserWarning: X does not have valid feature names, but RandomForestClassifier was fitted with feature names\n",
      "  warnings.warn(\n"
     ]
    },
    {
     "name": "stdout",
     "output_type": "stream",
     "text": [
      "[[ 2.          0.          2.         12.77874756  0.         19.68136597\n",
      "   1.52702332  0.          7.57460022]]\n"
     ]
    },
    {
     "name": "stderr",
     "output_type": "stream",
     "text": [
      "/home/prachit/.local/lib/python3.8/site-packages/sklearn/base.py:465: UserWarning: X does not have valid feature names, but RandomForestClassifier was fitted with feature names\n",
      "  warnings.warn(\n",
      "/home/prachit/.local/lib/python3.8/site-packages/sklearn/base.py:465: UserWarning: X does not have valid feature names, but RandomForestClassifier was fitted with feature names\n",
      "  warnings.warn(\n"
     ]
    },
    {
     "name": "stdout",
     "output_type": "stream",
     "text": [
      "[[ 2.          0.          2.         16.80105591  0.         26.62677002\n",
      "   5.68722248  0.         10.66444111]]\n"
     ]
    },
    {
     "name": "stderr",
     "output_type": "stream",
     "text": [
      "/home/prachit/.local/lib/python3.8/site-packages/sklearn/base.py:465: UserWarning: X does not have valid feature names, but RandomForestClassifier was fitted with feature names\n",
      "  warnings.warn(\n",
      "/home/prachit/.local/lib/python3.8/site-packages/sklearn/base.py:465: UserWarning: X does not have valid feature names, but RandomForestClassifier was fitted with feature names\n",
      "  warnings.warn(\n"
     ]
    },
    {
     "name": "stdout",
     "output_type": "stream",
     "text": [
      "[[ 1.          0.          2.         25.00378418  0.         13.50274658\n",
      "   9.8887291   0.         14.73746681]]\n"
     ]
    },
    {
     "name": "stderr",
     "output_type": "stream",
     "text": [
      "/home/prachit/.local/lib/python3.8/site-packages/sklearn/base.py:465: UserWarning: X does not have valid feature names, but RandomForestClassifier was fitted with feature names\n",
      "  warnings.warn(\n",
      "/home/prachit/.local/lib/python3.8/site-packages/sklearn/base.py:465: UserWarning: X does not have valid feature names, but RandomForestClassifier was fitted with feature names\n",
      "  warnings.warn(\n"
     ]
    },
    {
     "name": "stdout",
     "output_type": "stream",
     "text": [
      "[[ 2.          0.          2.         35.41293335  0.          1.67828369\n",
      "  10.80405617  0.         15.48155975]]\n"
     ]
    },
    {
     "name": "stderr",
     "output_type": "stream",
     "text": [
      "/home/prachit/.local/lib/python3.8/site-packages/sklearn/base.py:465: UserWarning: X does not have valid feature names, but RandomForestClassifier was fitted with feature names\n",
      "  warnings.warn(\n",
      "/home/prachit/.local/lib/python3.8/site-packages/sklearn/base.py:465: UserWarning: X does not have valid feature names, but RandomForestClassifier was fitted with feature names\n",
      "  warnings.warn(\n"
     ]
    },
    {
     "name": "stdout",
     "output_type": "stream",
     "text": [
      "[[ 2.          0.          2.         39.65432739  0.         17.25466919\n",
      "   9.74491215  0.         15.64801598]]\n"
     ]
    },
    {
     "name": "stderr",
     "output_type": "stream",
     "text": [
      "/home/prachit/.local/lib/python3.8/site-packages/sklearn/base.py:465: UserWarning: X does not have valid feature names, but RandomForestClassifier was fitted with feature names\n",
      "  warnings.warn(\n",
      "/home/prachit/.local/lib/python3.8/site-packages/sklearn/base.py:465: UserWarning: X does not have valid feature names, but RandomForestClassifier was fitted with feature names\n",
      "  warnings.warn(\n"
     ]
    },
    {
     "name": "stdout",
     "output_type": "stream",
     "text": [
      "[[ 1.          0.          2.         30.84512329  0.         29.52981567\n",
      "   7.70027113  0.         15.22883415]]\n"
     ]
    },
    {
     "name": "stderr",
     "output_type": "stream",
     "text": [
      "/home/prachit/.local/lib/python3.8/site-packages/sklearn/base.py:465: UserWarning: X does not have valid feature names, but RandomForestClassifier was fitted with feature names\n",
      "  warnings.warn(\n",
      "/home/prachit/.local/lib/python3.8/site-packages/sklearn/base.py:465: UserWarning: X does not have valid feature names, but RandomForestClassifier was fitted with feature names\n",
      "  warnings.warn(\n"
     ]
    },
    {
     "name": "stdout",
     "output_type": "stream",
     "text": [
      "[[ 1.          0.          2.         24.15222168  0.         14.26034546\n",
      "   5.5429163   0.         15.30957699]]\n"
     ]
    },
    {
     "name": "stderr",
     "output_type": "stream",
     "text": [
      "/home/prachit/.local/lib/python3.8/site-packages/sklearn/base.py:465: UserWarning: X does not have valid feature names, but RandomForestClassifier was fitted with feature names\n",
      "  warnings.warn(\n",
      "/home/prachit/.local/lib/python3.8/site-packages/sklearn/base.py:465: UserWarning: X does not have valid feature names, but RandomForestClassifier was fitted with feature names\n",
      "  warnings.warn(\n"
     ]
    },
    {
     "name": "stdout",
     "output_type": "stream",
     "text": [
      "[[ 1.          0.          2.         19.69671631  0.          1.07629395\n",
      "   3.46179438  0.         15.36425018]]\n"
     ]
    },
    {
     "name": "stderr",
     "output_type": "stream",
     "text": [
      "/home/prachit/.local/lib/python3.8/site-packages/sklearn/base.py:465: UserWarning: X does not have valid feature names, but RandomForestClassifier was fitted with feature names\n",
      "  warnings.warn(\n",
      "/home/prachit/.local/lib/python3.8/site-packages/sklearn/base.py:465: UserWarning: X does not have valid feature names, but RandomForestClassifier was fitted with feature names\n",
      "  warnings.warn(\n"
     ]
    },
    {
     "name": "stdout",
     "output_type": "stream",
     "text": [
      "[[ 1.          0.          2.         15.1210022   0.         18.47045898\n",
      "   7.64838314  0.         18.72118759]]\n"
     ]
    },
    {
     "name": "stderr",
     "output_type": "stream",
     "text": [
      "/home/prachit/.local/lib/python3.8/site-packages/sklearn/base.py:465: UserWarning: X does not have valid feature names, but RandomForestClassifier was fitted with feature names\n",
      "  warnings.warn(\n",
      "/home/prachit/.local/lib/python3.8/site-packages/sklearn/base.py:465: UserWarning: X does not have valid feature names, but RandomForestClassifier was fitted with feature names\n",
      "  warnings.warn(\n"
     ]
    },
    {
     "name": "stdout",
     "output_type": "stream",
     "text": [
      "[[ 1.          0.          2.          5.75738525  0.         37.55059814\n",
      "  10.93164539  0.         19.31991959]]\n"
     ]
    },
    {
     "name": "stderr",
     "output_type": "stream",
     "text": [
      "/home/prachit/.local/lib/python3.8/site-packages/sklearn/base.py:465: UserWarning: X does not have valid feature names, but RandomForestClassifier was fitted with feature names\n",
      "  warnings.warn(\n",
      "/home/prachit/.local/lib/python3.8/site-packages/sklearn/base.py:465: UserWarning: X does not have valid feature names, but RandomForestClassifier was fitted with feature names\n",
      "  warnings.warn(\n"
     ]
    },
    {
     "name": "stdout",
     "output_type": "stream",
     "text": [
      "[[ 1.          0.          2.          6.32275391  0.         56.94195557\n",
      "  13.29289341  0.         19.44324303]]\n"
     ]
    },
    {
     "name": "stderr",
     "output_type": "stream",
     "text": [
      "/home/prachit/.local/lib/python3.8/site-packages/sklearn/base.py:465: UserWarning: X does not have valid feature names, but RandomForestClassifier was fitted with feature names\n",
      "  warnings.warn(\n",
      "/home/prachit/.local/lib/python3.8/site-packages/sklearn/base.py:465: UserWarning: X does not have valid feature names, but RandomForestClassifier was fitted with feature names\n",
      "  warnings.warn(\n"
     ]
    },
    {
     "name": "stdout",
     "output_type": "stream",
     "text": [
      "[[ 1.          0.          2.         20.52441406  0.         76.40606689\n",
      "  15.15379047  0.         19.48235893]]\n"
     ]
    },
    {
     "name": "stderr",
     "output_type": "stream",
     "text": [
      "/home/prachit/.local/lib/python3.8/site-packages/sklearn/base.py:465: UserWarning: X does not have valid feature names, but RandomForestClassifier was fitted with feature names\n",
      "  warnings.warn(\n",
      "/home/prachit/.local/lib/python3.8/site-packages/sklearn/base.py:465: UserWarning: X does not have valid feature names, but RandomForestClassifier was fitted with feature names\n",
      "  warnings.warn(\n"
     ]
    },
    {
     "name": "stdout",
     "output_type": "stream",
     "text": [
      "[[ 1.          0.          2.         35.95782471  0.         95.8994751\n",
      "  16.47711563  0.         19.50473595]]\n"
     ]
    },
    {
     "name": "stderr",
     "output_type": "stream",
     "text": [
      "/home/prachit/.local/lib/python3.8/site-packages/sklearn/base.py:465: UserWarning: X does not have valid feature names, but RandomForestClassifier was fitted with feature names\n",
      "  warnings.warn(\n",
      "/home/prachit/.local/lib/python3.8/site-packages/sklearn/base.py:465: UserWarning: X does not have valid feature names, but RandomForestClassifier was fitted with feature names\n",
      "  warnings.warn(\n"
     ]
    },
    {
     "name": "stdout",
     "output_type": "stream",
     "text": [
      "[[  2.           0.           1.          53.25036621   0.\n",
      "  115.41265869  17.98581505   0.          19.52225685]]\n"
     ]
    },
    {
     "name": "stderr",
     "output_type": "stream",
     "text": [
      "/home/prachit/.local/lib/python3.8/site-packages/sklearn/base.py:465: UserWarning: X does not have valid feature names, but RandomForestClassifier was fitted with feature names\n",
      "  warnings.warn(\n",
      "/home/prachit/.local/lib/python3.8/site-packages/sklearn/base.py:465: UserWarning: X does not have valid feature names, but RandomForestClassifier was fitted with feature names\n",
      "  warnings.warn(\n"
     ]
    },
    {
     "name": "stdout",
     "output_type": "stream",
     "text": [
      "[[  2.           0.           1.          71.68457031   0.\n",
      "  134.9420166   18.87379646   0.          19.53716469]]\n"
     ]
    },
    {
     "name": "stderr",
     "output_type": "stream",
     "text": [
      "/home/prachit/.local/lib/python3.8/site-packages/sklearn/base.py:465: UserWarning: X does not have valid feature names, but RandomForestClassifier was fitted with feature names\n",
      "  warnings.warn(\n",
      "/home/prachit/.local/lib/python3.8/site-packages/sklearn/base.py:465: UserWarning: X does not have valid feature names, but RandomForestClassifier was fitted with feature names\n",
      "  warnings.warn(\n"
     ]
    },
    {
     "name": "stdout",
     "output_type": "stream",
     "text": [
      "[[  2.           0.           1.          90.8371582    0.\n",
      "  154.48535156  19.42151451   0.          19.54998589]]\n"
     ]
    },
    {
     "name": "stderr",
     "output_type": "stream",
     "text": [
      "/home/prachit/.local/lib/python3.8/site-packages/sklearn/base.py:465: UserWarning: X does not have valid feature names, but RandomForestClassifier was fitted with feature names\n",
      "  warnings.warn(\n",
      "/home/prachit/.local/lib/python3.8/site-packages/sklearn/base.py:465: UserWarning: X does not have valid feature names, but RandomForestClassifier was fitted with feature names\n",
      "  warnings.warn(\n"
     ]
    },
    {
     "name": "stdout",
     "output_type": "stream",
     "text": [
      "[[  4.           0.           2.         110.4229126    0.\n",
      "  135.31329346  19.74141693   0.          16.51837921]]\n"
     ]
    },
    {
     "name": "stderr",
     "output_type": "stream",
     "text": [
      "/home/prachit/.local/lib/python3.8/site-packages/sklearn/base.py:465: UserWarning: X does not have valid feature names, but RandomForestClassifier was fitted with feature names\n",
      "  warnings.warn(\n",
      "/home/prachit/.local/lib/python3.8/site-packages/sklearn/base.py:465: UserWarning: X does not have valid feature names, but RandomForestClassifier was fitted with feature names\n",
      "  warnings.warn(\n"
     ]
    },
    {
     "name": "stdout",
     "output_type": "stream",
     "text": [
      "[[  4.           0.           2.         130.25598145   0.\n",
      "  152.25537109  19.91842461   0.          17.26645851]]\n"
     ]
    },
    {
     "name": "stderr",
     "output_type": "stream",
     "text": [
      "/home/prachit/.local/lib/python3.8/site-packages/sklearn/base.py:465: UserWarning: X does not have valid feature names, but RandomForestClassifier was fitted with feature names\n",
      "  warnings.warn(\n",
      "/home/prachit/.local/lib/python3.8/site-packages/sklearn/base.py:465: UserWarning: X does not have valid feature names, but RandomForestClassifier was fitted with feature names\n",
      "  warnings.warn(\n"
     ]
    },
    {
     "name": "stdout",
     "output_type": "stream",
     "text": [
      "[[  6.           0.           1.         150.22241211   0.\n",
      "  169.75427246  20.0098114    0.          17.74188614]]\n"
     ]
    },
    {
     "name": "stderr",
     "output_type": "stream",
     "text": [
      "/home/prachit/.local/lib/python3.8/site-packages/sklearn/base.py:465: UserWarning: X does not have valid feature names, but RandomForestClassifier was fitted with feature names\n",
      "  warnings.warn(\n",
      "/home/prachit/.local/lib/python3.8/site-packages/sklearn/base.py:465: UserWarning: X does not have valid feature names, but RandomForestClassifier was fitted with feature names\n",
      "  warnings.warn(\n"
     ]
    },
    {
     "name": "stdout",
     "output_type": "stream",
     "text": [
      "[[  7.           0.           1.         170.25469971   0.\n",
      "  187.67578125  20.05129814   0.          18.10975075]]\n"
     ]
    },
    {
     "name": "stderr",
     "output_type": "stream",
     "text": [
      "/home/prachit/.local/lib/python3.8/site-packages/sklearn/base.py:465: UserWarning: X does not have valid feature names, but RandomForestClassifier was fitted with feature names\n",
      "  warnings.warn(\n",
      "/home/prachit/.local/lib/python3.8/site-packages/sklearn/base.py:465: UserWarning: X does not have valid feature names, but RandomForestClassifier was fitted with feature names\n",
      "  warnings.warn(\n"
     ]
    },
    {
     "name": "stdout",
     "output_type": "stream",
     "text": [
      "[[8.00000000e+00 0.00000000e+00 0.00000000e+00 1.90313782e+02\n",
      "  0.00000000e+00 1.00000000e+04 2.00641918e+01 0.00000000e+00\n",
      "  1.00000000e+04]]\n"
     ]
    },
    {
     "name": "stderr",
     "output_type": "stream",
     "text": [
      "/home/prachit/.local/lib/python3.8/site-packages/sklearn/base.py:465: UserWarning: X does not have valid feature names, but RandomForestClassifier was fitted with feature names\n",
      "  warnings.warn(\n",
      "/home/prachit/.local/lib/python3.8/site-packages/sklearn/base.py:465: UserWarning: X does not have valid feature names, but RandomForestClassifier was fitted with feature names\n",
      "  warnings.warn(\n"
     ]
    },
    {
     "name": "stdout",
     "output_type": "stream",
     "text": [
      "[[ 9.00000000e+00  0.00000000e+00  0.00000000e+00  5.15496887e+02\n",
      "   0.00000000e+00  1.00000000e+04 -7.24508231e-11  0.00000000e+00\n",
      "   1.00000000e+04]]\n"
     ]
    },
    {
     "name": "stderr",
     "output_type": "stream",
     "text": [
      "/home/prachit/.local/lib/python3.8/site-packages/sklearn/base.py:465: UserWarning: X does not have valid feature names, but RandomForestClassifier was fitted with feature names\n",
      "  warnings.warn(\n",
      "/home/prachit/.local/lib/python3.8/site-packages/sklearn/base.py:465: UserWarning: X does not have valid feature names, but RandomForestClassifier was fitted with feature names\n",
      "  warnings.warn(\n"
     ]
    },
    {
     "name": "stdout",
     "output_type": "stream",
     "text": [
      "[[ 9.00000000e+00  0.00000000e+00  0.00000000e+00  5.15496887e+02\n",
      "   0.00000000e+00  1.00000000e+04 -1.23809929e-11  0.00000000e+00\n",
      "   1.00000000e+04]]\n"
     ]
    },
    {
     "name": "stderr",
     "output_type": "stream",
     "text": [
      "/home/prachit/.local/lib/python3.8/site-packages/sklearn/base.py:465: UserWarning: X does not have valid feature names, but RandomForestClassifier was fitted with feature names\n",
      "  warnings.warn(\n",
      "/home/prachit/.local/lib/python3.8/site-packages/sklearn/base.py:465: UserWarning: X does not have valid feature names, but RandomForestClassifier was fitted with feature names\n",
      "  warnings.warn(\n"
     ]
    },
    {
     "name": "stdout",
     "output_type": "stream",
     "text": [
      "[[ 9.00000000e+00  0.00000000e+00  0.00000000e+00  5.15496887e+02\n",
      "   0.00000000e+00  1.00000000e+04 -2.11576611e-12  0.00000000e+00\n",
      "   1.00000000e+04]]\n"
     ]
    },
    {
     "name": "stderr",
     "output_type": "stream",
     "text": [
      "/home/prachit/.local/lib/python3.8/site-packages/sklearn/base.py:465: UserWarning: X does not have valid feature names, but RandomForestClassifier was fitted with feature names\n",
      "  warnings.warn(\n",
      "/home/prachit/.local/lib/python3.8/site-packages/sklearn/base.py:465: UserWarning: X does not have valid feature names, but RandomForestClassifier was fitted with feature names\n",
      "  warnings.warn(\n"
     ]
    },
    {
     "name": "stdout",
     "output_type": "stream",
     "text": [
      "[[ 9.00000000e+00  0.00000000e+00  0.00000000e+00  5.15496887e+02\n",
      "   0.00000000e+00  1.00000000e+04 -3.61559524e-13  0.00000000e+00\n",
      "   1.00000000e+04]]\n"
     ]
    },
    {
     "name": "stderr",
     "output_type": "stream",
     "text": [
      "/home/prachit/.local/lib/python3.8/site-packages/sklearn/base.py:465: UserWarning: X does not have valid feature names, but RandomForestClassifier was fitted with feature names\n",
      "  warnings.warn(\n",
      "/home/prachit/.local/lib/python3.8/site-packages/sklearn/base.py:465: UserWarning: X does not have valid feature names, but RandomForestClassifier was fitted with feature names\n",
      "  warnings.warn(\n"
     ]
    },
    {
     "name": "stdout",
     "output_type": "stream",
     "text": [
      "[[ 9.00000000e+00  0.00000000e+00  0.00000000e+00  5.15496887e+02\n",
      "   0.00000000e+00  1.00000000e+04 -6.17862695e-14  0.00000000e+00\n",
      "   1.00000000e+04]]\n"
     ]
    },
    {
     "name": "stderr",
     "output_type": "stream",
     "text": [
      "/home/prachit/.local/lib/python3.8/site-packages/sklearn/base.py:465: UserWarning: X does not have valid feature names, but RandomForestClassifier was fitted with feature names\n",
      "  warnings.warn(\n",
      "/home/prachit/.local/lib/python3.8/site-packages/sklearn/base.py:465: UserWarning: X does not have valid feature names, but RandomForestClassifier was fitted with feature names\n",
      "  warnings.warn(\n"
     ]
    },
    {
     "name": "stdout",
     "output_type": "stream",
     "text": [
      "[[ 9.00000000e+00  0.00000000e+00  0.00000000e+00  5.15496887e+02\n",
      "   0.00000000e+00  1.00000000e+04 -1.05585469e-14  0.00000000e+00\n",
      "   1.00000000e+04]]\n"
     ]
    },
    {
     "name": "stderr",
     "output_type": "stream",
     "text": [
      "/home/prachit/.local/lib/python3.8/site-packages/sklearn/base.py:465: UserWarning: X does not have valid feature names, but RandomForestClassifier was fitted with feature names\n",
      "  warnings.warn(\n",
      "/home/prachit/.local/lib/python3.8/site-packages/sklearn/base.py:465: UserWarning: X does not have valid feature names, but RandomForestClassifier was fitted with feature names\n",
      "  warnings.warn(\n",
      "Test episodes:  67%|██████▋   | 2/3 [01:57<00:39, 39.88s/it]"
     ]
    },
    {
     "name": "stdout",
     "output_type": "stream",
     "text": [
      "Moviepy - Building video /home/prachit/Desktop/Reward-shaping-with-LLMS/videos/test_safe_rf/rl-video-episode-2.mp4.\n",
      "Moviepy - Writing video /home/prachit/Desktop/Reward-shaping-with-LLMS/videos/test_safe_rf/rl-video-episode-2.mp4\n",
      "\n"
     ]
    },
    {
     "name": "stderr",
     "output_type": "stream",
     "text": [
      "Test episodes: 100%|██████████| 3/3 [01:57<00:00, 39.31s/it]\n"
     ]
    },
    {
     "name": "stdout",
     "output_type": "stream",
     "text": [
      "Moviepy - Done !\n",
      "Moviepy - video ready /home/prachit/Desktop/Reward-shaping-with-LLMS/videos/test_safe_rf/rl-video-episode-2.mp4\n"
     ]
    },
    {
     "data": {
      "text/html": [
       "<video alt=\"videos/rl-video-episode-2.mp4\" autoplay\n",
       "                      loop controls style=\"height: 400px;\">\n",
       "                      <source src=\"data:video/mp4;base64,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\" type=\"video/mp4\" />\n",
       "                 </video><br><video alt=\"videos/rl-video-episode-0.mp4\" autoplay\n",
       "                      loop controls style=\"height: 400px;\">\n",
       "                      <source src=\"data:video/mp4;base64,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\" type=\"video/mp4\" />\n",
       "                 </video><br><video alt=\"videos/rl-video-episode-1.mp4\" autoplay\n",
       "                      loop controls style=\"height: 400px;\">\n",
       "                      <source src=\"data:video/mp4;base64,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\" type=\"video/mp4\" />\n",
       "                 </video>"
      ],
      "text/plain": [
       "<IPython.core.display.HTML object>"
      ]
     },
     "metadata": {},
     "output_type": "display_data"
    }
   ],
   "source": [
    "import os\n",
    "import gymnasium as gym\n",
    "import numpy as np\n",
    "from gymnasium.wrappers import RecordVideo\n",
    "from tqdm import trange  # For progress tracking\n",
    "from IPython.display import display, Video\n",
    "\n",
    "# Base setting\n",
    "vehicleCount = 10\n",
    "\n",
    "# Environment configuration\n",
    "config = {\n",
    "   \"observation\": {\n",
    "                \"type\": \"Kinematics\",\n",
    "                \"features\": [\"presence\", \"x\", \"y\", \"vx\", \"vy\"],\n",
    "                \"absolute\": True,\n",
    "                \"normalize\": False,\n",
    "                \"vehicles_count\": vehicleCount,\n",
    "                \"see_behind\": True,\n",
    "            },\n",
    "            \"action\": {\n",
    "                \"type\": \"DiscreteMetaAction\",\n",
    "                \"target_speeds\": np.linspace(0, 32, 9),\n",
    "            },\n",
    "            \"duration\": 40,\n",
    "            \"vehicles_density\": 2,\n",
    "            \"show_trajectories\": True,\n",
    "            \"render_agent\": True,}\n",
    "\n",
    "# Create directory for video storage if it doesn't exist\n",
    "video_dir = 'videos/test_safe_rf'\n",
    "if not os.path.exists(video_dir):\n",
    "    os.makedirs(video_dir)\n",
    "\n",
    "# Create directory for action predictions storage if it doesn't exist\n",
    "predictions_dir = 'predictions/test_safe_rf'\n",
    "if not os.path.exists(predictions_dir):\n",
    "    os.makedirs(predictions_dir)\n",
    "\n",
    "# Create and configure environment\n",
    "env = gym.make('highway-v0', render_mode='rgb_array', config=config)\n",
    "\n",
    "# Wrap environment with video recording\n",
    "env = RecordVideo(env, video_folder=video_dir, episode_trigger=lambda episode_id: True)\n",
    "\n",
    "\n",
    "# Run test episodes and record them\n",
    "for episode in trange(3, desc='Test episodes'):\n",
    "    # Prepare to log the actions taken in this episode\n",
    "    actions_file_path = os.path.join(predictions_dir, f'episode_{episode}_actions.txt')\n",
    "    \n",
    "    with open(actions_file_path, 'w') as action_file:\n",
    "        (obs, info), done, truncated = env.reset(), False, False\n",
    "        while not (done or truncated):\n",
    "            #action = 4 if np.random.rand() < 0.5 else 3\n",
    "            process(obs)\n",
    "            action = rf_query(obs)\n",
    "            obs, reward, done, truncated, info = env.step(int(action))\n",
    "            \n",
    "            # Log the action taken\n",
    "            action_file.write(f\"Action: {action}\\n\")\n",
    "env.close()\n",
    "\n",
    "\n",
    "# Display the recorded videos\n",
    "show_videos()\n"
   ]
  }
 ],
 "metadata": {
  "kernelspec": {
   "display_name": "Python 3",
   "language": "python",
   "name": "python3"
  },
  "language_info": {
   "codemirror_mode": {
    "name": "ipython",
    "version": 3
   },
   "file_extension": ".py",
   "mimetype": "text/x-python",
   "name": "python",
   "nbconvert_exporter": "python",
   "pygments_lexer": "ipython3",
   "version": "3.8.10"
  }
 },
 "nbformat": 4,
 "nbformat_minor": 2
}
